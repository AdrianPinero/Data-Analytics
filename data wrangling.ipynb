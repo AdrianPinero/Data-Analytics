{
 "cells": [
  {
   "cell_type": "markdown",
   "id": "b1a608af",
   "metadata": {},
   "source": [
    "# Data wrangling set de vehículos."
   ]
  },
  {
   "cell_type": "markdown",
   "id": "16e67197",
   "metadata": {},
   "source": [
    "## Primero una vista general de la data: cantidad de filas, que contiene cada columna y formato."
   ]
  },
  {
   "cell_type": "code",
   "execution_count": 1,
   "id": "a029fd99",
   "metadata": {},
   "outputs": [
    {
     "data": {
      "text/html": [
       "<div>\n",
       "<style scoped>\n",
       "    .dataframe tbody tr th:only-of-type {\n",
       "        vertical-align: middle;\n",
       "    }\n",
       "\n",
       "    .dataframe tbody tr th {\n",
       "        vertical-align: top;\n",
       "    }\n",
       "\n",
       "    .dataframe thead th {\n",
       "        text-align: right;\n",
       "    }\n",
       "</style>\n",
       "<table border=\"1\" class=\"dataframe\">\n",
       "  <thead>\n",
       "    <tr style=\"text-align: right;\">\n",
       "      <th></th>\n",
       "      <th>symboling</th>\n",
       "      <th>normalized-losses</th>\n",
       "      <th>make</th>\n",
       "      <th>fuel-type</th>\n",
       "      <th>aspiration</th>\n",
       "      <th>num-of-doors</th>\n",
       "      <th>body-style</th>\n",
       "      <th>drive-wheels</th>\n",
       "      <th>engine-location</th>\n",
       "      <th>wheel-base</th>\n",
       "      <th>...</th>\n",
       "      <th>engine-size</th>\n",
       "      <th>fuel-system</th>\n",
       "      <th>bore</th>\n",
       "      <th>stroke</th>\n",
       "      <th>compression-ratio</th>\n",
       "      <th>horsepower</th>\n",
       "      <th>peak-rpm</th>\n",
       "      <th>city-mpg</th>\n",
       "      <th>highway-mpg</th>\n",
       "      <th>price</th>\n",
       "    </tr>\n",
       "  </thead>\n",
       "  <tbody>\n",
       "    <tr>\n",
       "      <th>0</th>\n",
       "      <td>3</td>\n",
       "      <td>?</td>\n",
       "      <td>alfa-romero</td>\n",
       "      <td>gas</td>\n",
       "      <td>std</td>\n",
       "      <td>two</td>\n",
       "      <td>convertible</td>\n",
       "      <td>rwd</td>\n",
       "      <td>front</td>\n",
       "      <td>88.6</td>\n",
       "      <td>...</td>\n",
       "      <td>130</td>\n",
       "      <td>mpfi</td>\n",
       "      <td>3.47</td>\n",
       "      <td>2.68</td>\n",
       "      <td>9.0</td>\n",
       "      <td>111</td>\n",
       "      <td>5000</td>\n",
       "      <td>21</td>\n",
       "      <td>27</td>\n",
       "      <td>13495</td>\n",
       "    </tr>\n",
       "    <tr>\n",
       "      <th>1</th>\n",
       "      <td>3</td>\n",
       "      <td>?</td>\n",
       "      <td>alfa-romero</td>\n",
       "      <td>gas</td>\n",
       "      <td>std</td>\n",
       "      <td>two</td>\n",
       "      <td>convertible</td>\n",
       "      <td>rwd</td>\n",
       "      <td>front</td>\n",
       "      <td>88.6</td>\n",
       "      <td>...</td>\n",
       "      <td>130</td>\n",
       "      <td>mpfi</td>\n",
       "      <td>3.47</td>\n",
       "      <td>2.68</td>\n",
       "      <td>9.0</td>\n",
       "      <td>111</td>\n",
       "      <td>5000</td>\n",
       "      <td>21</td>\n",
       "      <td>27</td>\n",
       "      <td>16500</td>\n",
       "    </tr>\n",
       "    <tr>\n",
       "      <th>2</th>\n",
       "      <td>1</td>\n",
       "      <td>?</td>\n",
       "      <td>alfa-romero</td>\n",
       "      <td>gas</td>\n",
       "      <td>std</td>\n",
       "      <td>two</td>\n",
       "      <td>hatchback</td>\n",
       "      <td>rwd</td>\n",
       "      <td>front</td>\n",
       "      <td>94.5</td>\n",
       "      <td>...</td>\n",
       "      <td>152</td>\n",
       "      <td>mpfi</td>\n",
       "      <td>2.68</td>\n",
       "      <td>3.47</td>\n",
       "      <td>9.0</td>\n",
       "      <td>154</td>\n",
       "      <td>5000</td>\n",
       "      <td>19</td>\n",
       "      <td>26</td>\n",
       "      <td>16500</td>\n",
       "    </tr>\n",
       "    <tr>\n",
       "      <th>3</th>\n",
       "      <td>2</td>\n",
       "      <td>164</td>\n",
       "      <td>audi</td>\n",
       "      <td>gas</td>\n",
       "      <td>std</td>\n",
       "      <td>four</td>\n",
       "      <td>sedan</td>\n",
       "      <td>fwd</td>\n",
       "      <td>front</td>\n",
       "      <td>99.8</td>\n",
       "      <td>...</td>\n",
       "      <td>109</td>\n",
       "      <td>mpfi</td>\n",
       "      <td>3.19</td>\n",
       "      <td>3.40</td>\n",
       "      <td>10.0</td>\n",
       "      <td>102</td>\n",
       "      <td>5500</td>\n",
       "      <td>24</td>\n",
       "      <td>30</td>\n",
       "      <td>13950</td>\n",
       "    </tr>\n",
       "    <tr>\n",
       "      <th>4</th>\n",
       "      <td>2</td>\n",
       "      <td>164</td>\n",
       "      <td>audi</td>\n",
       "      <td>gas</td>\n",
       "      <td>std</td>\n",
       "      <td>four</td>\n",
       "      <td>sedan</td>\n",
       "      <td>4wd</td>\n",
       "      <td>front</td>\n",
       "      <td>99.4</td>\n",
       "      <td>...</td>\n",
       "      <td>136</td>\n",
       "      <td>mpfi</td>\n",
       "      <td>3.19</td>\n",
       "      <td>3.40</td>\n",
       "      <td>8.0</td>\n",
       "      <td>115</td>\n",
       "      <td>5500</td>\n",
       "      <td>18</td>\n",
       "      <td>22</td>\n",
       "      <td>17450</td>\n",
       "    </tr>\n",
       "    <tr>\n",
       "      <th>...</th>\n",
       "      <td>...</td>\n",
       "      <td>...</td>\n",
       "      <td>...</td>\n",
       "      <td>...</td>\n",
       "      <td>...</td>\n",
       "      <td>...</td>\n",
       "      <td>...</td>\n",
       "      <td>...</td>\n",
       "      <td>...</td>\n",
       "      <td>...</td>\n",
       "      <td>...</td>\n",
       "      <td>...</td>\n",
       "      <td>...</td>\n",
       "      <td>...</td>\n",
       "      <td>...</td>\n",
       "      <td>...</td>\n",
       "      <td>...</td>\n",
       "      <td>...</td>\n",
       "      <td>...</td>\n",
       "      <td>...</td>\n",
       "      <td>...</td>\n",
       "    </tr>\n",
       "    <tr>\n",
       "      <th>200</th>\n",
       "      <td>-1</td>\n",
       "      <td>95</td>\n",
       "      <td>volvo</td>\n",
       "      <td>gas</td>\n",
       "      <td>std</td>\n",
       "      <td>four</td>\n",
       "      <td>sedan</td>\n",
       "      <td>rwd</td>\n",
       "      <td>front</td>\n",
       "      <td>109.1</td>\n",
       "      <td>...</td>\n",
       "      <td>141</td>\n",
       "      <td>mpfi</td>\n",
       "      <td>3.78</td>\n",
       "      <td>3.15</td>\n",
       "      <td>9.5</td>\n",
       "      <td>114</td>\n",
       "      <td>5400</td>\n",
       "      <td>23</td>\n",
       "      <td>28</td>\n",
       "      <td>16845</td>\n",
       "    </tr>\n",
       "    <tr>\n",
       "      <th>201</th>\n",
       "      <td>-1</td>\n",
       "      <td>95</td>\n",
       "      <td>volvo</td>\n",
       "      <td>gas</td>\n",
       "      <td>turbo</td>\n",
       "      <td>four</td>\n",
       "      <td>sedan</td>\n",
       "      <td>rwd</td>\n",
       "      <td>front</td>\n",
       "      <td>109.1</td>\n",
       "      <td>...</td>\n",
       "      <td>141</td>\n",
       "      <td>mpfi</td>\n",
       "      <td>3.78</td>\n",
       "      <td>3.15</td>\n",
       "      <td>8.7</td>\n",
       "      <td>160</td>\n",
       "      <td>5300</td>\n",
       "      <td>19</td>\n",
       "      <td>25</td>\n",
       "      <td>19045</td>\n",
       "    </tr>\n",
       "    <tr>\n",
       "      <th>202</th>\n",
       "      <td>-1</td>\n",
       "      <td>95</td>\n",
       "      <td>volvo</td>\n",
       "      <td>gas</td>\n",
       "      <td>std</td>\n",
       "      <td>four</td>\n",
       "      <td>sedan</td>\n",
       "      <td>rwd</td>\n",
       "      <td>front</td>\n",
       "      <td>109.1</td>\n",
       "      <td>...</td>\n",
       "      <td>173</td>\n",
       "      <td>mpfi</td>\n",
       "      <td>3.58</td>\n",
       "      <td>2.87</td>\n",
       "      <td>8.8</td>\n",
       "      <td>134</td>\n",
       "      <td>5500</td>\n",
       "      <td>18</td>\n",
       "      <td>23</td>\n",
       "      <td>21485</td>\n",
       "    </tr>\n",
       "    <tr>\n",
       "      <th>203</th>\n",
       "      <td>-1</td>\n",
       "      <td>95</td>\n",
       "      <td>volvo</td>\n",
       "      <td>diesel</td>\n",
       "      <td>turbo</td>\n",
       "      <td>four</td>\n",
       "      <td>sedan</td>\n",
       "      <td>rwd</td>\n",
       "      <td>front</td>\n",
       "      <td>109.1</td>\n",
       "      <td>...</td>\n",
       "      <td>145</td>\n",
       "      <td>idi</td>\n",
       "      <td>3.01</td>\n",
       "      <td>3.40</td>\n",
       "      <td>23.0</td>\n",
       "      <td>106</td>\n",
       "      <td>4800</td>\n",
       "      <td>26</td>\n",
       "      <td>27</td>\n",
       "      <td>22470</td>\n",
       "    </tr>\n",
       "    <tr>\n",
       "      <th>204</th>\n",
       "      <td>-1</td>\n",
       "      <td>95</td>\n",
       "      <td>volvo</td>\n",
       "      <td>gas</td>\n",
       "      <td>turbo</td>\n",
       "      <td>four</td>\n",
       "      <td>sedan</td>\n",
       "      <td>rwd</td>\n",
       "      <td>front</td>\n",
       "      <td>109.1</td>\n",
       "      <td>...</td>\n",
       "      <td>141</td>\n",
       "      <td>mpfi</td>\n",
       "      <td>3.78</td>\n",
       "      <td>3.15</td>\n",
       "      <td>9.5</td>\n",
       "      <td>114</td>\n",
       "      <td>5400</td>\n",
       "      <td>19</td>\n",
       "      <td>25</td>\n",
       "      <td>22625</td>\n",
       "    </tr>\n",
       "  </tbody>\n",
       "</table>\n",
       "<p>205 rows × 26 columns</p>\n",
       "</div>"
      ],
      "text/plain": [
       "     symboling normalized-losses         make fuel-type aspiration  \\\n",
       "0            3                 ?  alfa-romero       gas        std   \n",
       "1            3                 ?  alfa-romero       gas        std   \n",
       "2            1                 ?  alfa-romero       gas        std   \n",
       "3            2               164         audi       gas        std   \n",
       "4            2               164         audi       gas        std   \n",
       "..         ...               ...          ...       ...        ...   \n",
       "200         -1                95        volvo       gas        std   \n",
       "201         -1                95        volvo       gas      turbo   \n",
       "202         -1                95        volvo       gas        std   \n",
       "203         -1                95        volvo    diesel      turbo   \n",
       "204         -1                95        volvo       gas      turbo   \n",
       "\n",
       "    num-of-doors   body-style drive-wheels engine-location  wheel-base  ...  \\\n",
       "0            two  convertible          rwd           front        88.6  ...   \n",
       "1            two  convertible          rwd           front        88.6  ...   \n",
       "2            two    hatchback          rwd           front        94.5  ...   \n",
       "3           four        sedan          fwd           front        99.8  ...   \n",
       "4           four        sedan          4wd           front        99.4  ...   \n",
       "..           ...          ...          ...             ...         ...  ...   \n",
       "200         four        sedan          rwd           front       109.1  ...   \n",
       "201         four        sedan          rwd           front       109.1  ...   \n",
       "202         four        sedan          rwd           front       109.1  ...   \n",
       "203         four        sedan          rwd           front       109.1  ...   \n",
       "204         four        sedan          rwd           front       109.1  ...   \n",
       "\n",
       "     engine-size  fuel-system  bore  stroke compression-ratio horsepower  \\\n",
       "0            130         mpfi  3.47    2.68               9.0        111   \n",
       "1            130         mpfi  3.47    2.68               9.0        111   \n",
       "2            152         mpfi  2.68    3.47               9.0        154   \n",
       "3            109         mpfi  3.19    3.40              10.0        102   \n",
       "4            136         mpfi  3.19    3.40               8.0        115   \n",
       "..           ...          ...   ...     ...               ...        ...   \n",
       "200          141         mpfi  3.78    3.15               9.5        114   \n",
       "201          141         mpfi  3.78    3.15               8.7        160   \n",
       "202          173         mpfi  3.58    2.87               8.8        134   \n",
       "203          145          idi  3.01    3.40              23.0        106   \n",
       "204          141         mpfi  3.78    3.15               9.5        114   \n",
       "\n",
       "     peak-rpm city-mpg highway-mpg  price  \n",
       "0        5000       21          27  13495  \n",
       "1        5000       21          27  16500  \n",
       "2        5000       19          26  16500  \n",
       "3        5500       24          30  13950  \n",
       "4        5500       18          22  17450  \n",
       "..        ...      ...         ...    ...  \n",
       "200      5400       23          28  16845  \n",
       "201      5300       19          25  19045  \n",
       "202      5500       18          23  21485  \n",
       "203      4800       26          27  22470  \n",
       "204      5400       19          25  22625  \n",
       "\n",
       "[205 rows x 26 columns]"
      ]
     },
     "execution_count": 1,
     "metadata": {},
     "output_type": "execute_result"
    }
   ],
   "source": [
    "import pandas as pd\n",
    "\n",
    "columns = [\"symboling\",\"normalized-losses\",\"make\",\"fuel-type\",\"aspiration\", \"num-of-doors\",\"body-style\",\n",
    "         \"drive-wheels\",\"engine-location\",\"wheel-base\", \"length\",\"width\",\"height\",\"curb-weight\",\"engine-type\",\n",
    "         \"num-of-cylinders\", \"engine-size\",\"fuel-system\",\"bore\",\"stroke\",\"compression-ratio\",\"horsepower\",\n",
    "         \"peak-rpm\",\"city-mpg\",\"highway-mpg\",\"price\"]\n",
    "df = pd.read_csv(\"https://archive.ics.uci.edu/ml/machine-learning-databases/autos/imports-85.data\", names=columns)\n",
    "\n",
    "df"
   ]
  },
  {
   "cell_type": "code",
   "execution_count": 2,
   "id": "60bb612e",
   "metadata": {},
   "outputs": [
    {
     "name": "stdout",
     "output_type": "stream",
     "text": [
      "<class 'pandas.core.frame.DataFrame'>\n",
      "RangeIndex: 205 entries, 0 to 204\n",
      "Data columns (total 26 columns):\n",
      " #   Column             Non-Null Count  Dtype  \n",
      "---  ------             --------------  -----  \n",
      " 0   symboling          205 non-null    int64  \n",
      " 1   normalized-losses  205 non-null    object \n",
      " 2   make               205 non-null    object \n",
      " 3   fuel-type          205 non-null    object \n",
      " 4   aspiration         205 non-null    object \n",
      " 5   num-of-doors       205 non-null    object \n",
      " 6   body-style         205 non-null    object \n",
      " 7   drive-wheels       205 non-null    object \n",
      " 8   engine-location    205 non-null    object \n",
      " 9   wheel-base         205 non-null    float64\n",
      " 10  length             205 non-null    float64\n",
      " 11  width              205 non-null    float64\n",
      " 12  height             205 non-null    float64\n",
      " 13  curb-weight        205 non-null    int64  \n",
      " 14  engine-type        205 non-null    object \n",
      " 15  num-of-cylinders   205 non-null    object \n",
      " 16  engine-size        205 non-null    int64  \n",
      " 17  fuel-system        205 non-null    object \n",
      " 18  bore               205 non-null    object \n",
      " 19  stroke             205 non-null    object \n",
      " 20  compression-ratio  205 non-null    float64\n",
      " 21  horsepower         205 non-null    object \n",
      " 22  peak-rpm           205 non-null    object \n",
      " 23  city-mpg           205 non-null    int64  \n",
      " 24  highway-mpg        205 non-null    int64  \n",
      " 25  price              205 non-null    object \n",
      "dtypes: float64(5), int64(5), object(16)\n",
      "memory usage: 41.8+ KB\n"
     ]
    }
   ],
   "source": [
    "df.info()"
   ]
  },
  {
   "cell_type": "code",
   "execution_count": 3,
   "id": "6f500f61",
   "metadata": {},
   "outputs": [
    {
     "data": {
      "text/html": [
       "<div>\n",
       "<style scoped>\n",
       "    .dataframe tbody tr th:only-of-type {\n",
       "        vertical-align: middle;\n",
       "    }\n",
       "\n",
       "    .dataframe tbody tr th {\n",
       "        vertical-align: top;\n",
       "    }\n",
       "\n",
       "    .dataframe thead th {\n",
       "        text-align: right;\n",
       "    }\n",
       "</style>\n",
       "<table border=\"1\" class=\"dataframe\">\n",
       "  <thead>\n",
       "    <tr style=\"text-align: right;\">\n",
       "      <th></th>\n",
       "      <th>symboling</th>\n",
       "      <th>wheel-base</th>\n",
       "      <th>length</th>\n",
       "      <th>width</th>\n",
       "      <th>height</th>\n",
       "      <th>curb-weight</th>\n",
       "      <th>engine-size</th>\n",
       "      <th>compression-ratio</th>\n",
       "      <th>city-mpg</th>\n",
       "      <th>highway-mpg</th>\n",
       "    </tr>\n",
       "  </thead>\n",
       "  <tbody>\n",
       "    <tr>\n",
       "      <th>count</th>\n",
       "      <td>205.000000</td>\n",
       "      <td>205.000000</td>\n",
       "      <td>205.000000</td>\n",
       "      <td>205.000000</td>\n",
       "      <td>205.000000</td>\n",
       "      <td>205.000000</td>\n",
       "      <td>205.000000</td>\n",
       "      <td>205.000000</td>\n",
       "      <td>205.000000</td>\n",
       "      <td>205.000000</td>\n",
       "    </tr>\n",
       "    <tr>\n",
       "      <th>mean</th>\n",
       "      <td>0.834146</td>\n",
       "      <td>98.756585</td>\n",
       "      <td>174.049268</td>\n",
       "      <td>65.907805</td>\n",
       "      <td>53.724878</td>\n",
       "      <td>2555.565854</td>\n",
       "      <td>126.907317</td>\n",
       "      <td>10.142537</td>\n",
       "      <td>25.219512</td>\n",
       "      <td>30.751220</td>\n",
       "    </tr>\n",
       "    <tr>\n",
       "      <th>std</th>\n",
       "      <td>1.245307</td>\n",
       "      <td>6.021776</td>\n",
       "      <td>12.337289</td>\n",
       "      <td>2.145204</td>\n",
       "      <td>2.443522</td>\n",
       "      <td>520.680204</td>\n",
       "      <td>41.642693</td>\n",
       "      <td>3.972040</td>\n",
       "      <td>6.542142</td>\n",
       "      <td>6.886443</td>\n",
       "    </tr>\n",
       "    <tr>\n",
       "      <th>min</th>\n",
       "      <td>-2.000000</td>\n",
       "      <td>86.600000</td>\n",
       "      <td>141.100000</td>\n",
       "      <td>60.300000</td>\n",
       "      <td>47.800000</td>\n",
       "      <td>1488.000000</td>\n",
       "      <td>61.000000</td>\n",
       "      <td>7.000000</td>\n",
       "      <td>13.000000</td>\n",
       "      <td>16.000000</td>\n",
       "    </tr>\n",
       "    <tr>\n",
       "      <th>25%</th>\n",
       "      <td>0.000000</td>\n",
       "      <td>94.500000</td>\n",
       "      <td>166.300000</td>\n",
       "      <td>64.100000</td>\n",
       "      <td>52.000000</td>\n",
       "      <td>2145.000000</td>\n",
       "      <td>97.000000</td>\n",
       "      <td>8.600000</td>\n",
       "      <td>19.000000</td>\n",
       "      <td>25.000000</td>\n",
       "    </tr>\n",
       "    <tr>\n",
       "      <th>50%</th>\n",
       "      <td>1.000000</td>\n",
       "      <td>97.000000</td>\n",
       "      <td>173.200000</td>\n",
       "      <td>65.500000</td>\n",
       "      <td>54.100000</td>\n",
       "      <td>2414.000000</td>\n",
       "      <td>120.000000</td>\n",
       "      <td>9.000000</td>\n",
       "      <td>24.000000</td>\n",
       "      <td>30.000000</td>\n",
       "    </tr>\n",
       "    <tr>\n",
       "      <th>75%</th>\n",
       "      <td>2.000000</td>\n",
       "      <td>102.400000</td>\n",
       "      <td>183.100000</td>\n",
       "      <td>66.900000</td>\n",
       "      <td>55.500000</td>\n",
       "      <td>2935.000000</td>\n",
       "      <td>141.000000</td>\n",
       "      <td>9.400000</td>\n",
       "      <td>30.000000</td>\n",
       "      <td>34.000000</td>\n",
       "    </tr>\n",
       "    <tr>\n",
       "      <th>max</th>\n",
       "      <td>3.000000</td>\n",
       "      <td>120.900000</td>\n",
       "      <td>208.100000</td>\n",
       "      <td>72.300000</td>\n",
       "      <td>59.800000</td>\n",
       "      <td>4066.000000</td>\n",
       "      <td>326.000000</td>\n",
       "      <td>23.000000</td>\n",
       "      <td>49.000000</td>\n",
       "      <td>54.000000</td>\n",
       "    </tr>\n",
       "  </tbody>\n",
       "</table>\n",
       "</div>"
      ],
      "text/plain": [
       "        symboling  wheel-base      length       width      height  \\\n",
       "count  205.000000  205.000000  205.000000  205.000000  205.000000   \n",
       "mean     0.834146   98.756585  174.049268   65.907805   53.724878   \n",
       "std      1.245307    6.021776   12.337289    2.145204    2.443522   \n",
       "min     -2.000000   86.600000  141.100000   60.300000   47.800000   \n",
       "25%      0.000000   94.500000  166.300000   64.100000   52.000000   \n",
       "50%      1.000000   97.000000  173.200000   65.500000   54.100000   \n",
       "75%      2.000000  102.400000  183.100000   66.900000   55.500000   \n",
       "max      3.000000  120.900000  208.100000   72.300000   59.800000   \n",
       "\n",
       "       curb-weight  engine-size  compression-ratio    city-mpg  highway-mpg  \n",
       "count   205.000000   205.000000         205.000000  205.000000   205.000000  \n",
       "mean   2555.565854   126.907317          10.142537   25.219512    30.751220  \n",
       "std     520.680204    41.642693           3.972040    6.542142     6.886443  \n",
       "min    1488.000000    61.000000           7.000000   13.000000    16.000000  \n",
       "25%    2145.000000    97.000000           8.600000   19.000000    25.000000  \n",
       "50%    2414.000000   120.000000           9.000000   24.000000    30.000000  \n",
       "75%    2935.000000   141.000000           9.400000   30.000000    34.000000  \n",
       "max    4066.000000   326.000000          23.000000   49.000000    54.000000  "
      ]
     },
     "execution_count": 3,
     "metadata": {},
     "output_type": "execute_result"
    }
   ],
   "source": [
    "df.describe()"
   ]
  },
  {
   "cell_type": "code",
   "execution_count": 4,
   "id": "40b1aaec",
   "metadata": {},
   "outputs": [
    {
     "data": {
      "text/html": [
       "<div>\n",
       "<style scoped>\n",
       "    .dataframe tbody tr th:only-of-type {\n",
       "        vertical-align: middle;\n",
       "    }\n",
       "\n",
       "    .dataframe tbody tr th {\n",
       "        vertical-align: top;\n",
       "    }\n",
       "\n",
       "    .dataframe thead th {\n",
       "        text-align: right;\n",
       "    }\n",
       "</style>\n",
       "<table border=\"1\" class=\"dataframe\">\n",
       "  <thead>\n",
       "    <tr style=\"text-align: right;\">\n",
       "      <th></th>\n",
       "      <th>symboling</th>\n",
       "      <th>normalized-losses</th>\n",
       "      <th>make</th>\n",
       "      <th>fuel-type</th>\n",
       "      <th>aspiration</th>\n",
       "      <th>num-of-doors</th>\n",
       "      <th>body-style</th>\n",
       "      <th>drive-wheels</th>\n",
       "      <th>engine-location</th>\n",
       "      <th>wheel-base</th>\n",
       "      <th>...</th>\n",
       "      <th>engine-size</th>\n",
       "      <th>fuel-system</th>\n",
       "      <th>bore</th>\n",
       "      <th>stroke</th>\n",
       "      <th>compression-ratio</th>\n",
       "      <th>horsepower</th>\n",
       "      <th>peak-rpm</th>\n",
       "      <th>city-mpg</th>\n",
       "      <th>highway-mpg</th>\n",
       "      <th>price</th>\n",
       "    </tr>\n",
       "  </thead>\n",
       "  <tbody>\n",
       "  </tbody>\n",
       "</table>\n",
       "<p>0 rows × 26 columns</p>\n",
       "</div>"
      ],
      "text/plain": [
       "Empty DataFrame\n",
       "Columns: [symboling, normalized-losses, make, fuel-type, aspiration, num-of-doors, body-style, drive-wheels, engine-location, wheel-base, length, width, height, curb-weight, engine-type, num-of-cylinders, engine-size, fuel-system, bore, stroke, compression-ratio, horsepower, peak-rpm, city-mpg, highway-mpg, price]\n",
       "Index: []\n",
       "\n",
       "[0 rows x 26 columns]"
      ]
     },
     "execution_count": 4,
     "metadata": {},
     "output_type": "execute_result"
    }
   ],
   "source": [
    "df[df.duplicated()]"
   ]
  },
  {
   "cell_type": "markdown",
   "id": "2122bba6",
   "metadata": {},
   "source": [
    "En este caso solo voy a preocuparme por limpiar la data. Debería saber cual será su uso así no limpio y guardo columnas y/o filas que no sean necesarias y sean un desperdicio de tiempo y almacenamiento."
   ]
  },
  {
   "cell_type": "markdown",
   "id": "b8215bc2",
   "metadata": {},
   "source": [
    "El primer paso después de darle un vistazo a la data, será manipular los datos nulos o ausentes."
   ]
  },
  {
   "cell_type": "markdown",
   "id": "b923d4ce",
   "metadata": {},
   "source": [
    "## Manipular datos nulos."
   ]
  },
  {
   "cell_type": "code",
   "execution_count": 5,
   "id": "71b1313d",
   "metadata": {
    "scrolled": true
   },
   "outputs": [
    {
     "data": {
      "text/plain": [
       "False"
      ]
     },
     "execution_count": 5,
     "metadata": {},
     "output_type": "execute_result"
    }
   ],
   "source": [
    "df.isnull().values.any()"
   ]
  },
  {
   "cell_type": "markdown",
   "id": "2e12d34f",
   "metadata": {},
   "source": [
    "En el caso de este set de datos, los valores nulos o ausentes tienen \"?\" como valor. Pero \"?\" nos convertirá la columna a tipo objeto, y lo ideal será convertirlo a un valor nulo que nos permita usar otras funciones."
   ]
  },
  {
   "cell_type": "code",
   "execution_count": 6,
   "id": "fe71acc0",
   "metadata": {},
   "outputs": [],
   "source": [
    "import numpy as np\n",
    "df.replace(\"?\", np.nan, inplace = True)"
   ]
  },
  {
   "cell_type": "code",
   "execution_count": 7,
   "id": "a9a78e12",
   "metadata": {
    "scrolled": true
   },
   "outputs": [
    {
     "data": {
      "text/plain": [
       "normalized-losses    41\n",
       "price                 4\n",
       "stroke                4\n",
       "bore                  4\n",
       "peak-rpm              2\n",
       "num-of-doors          2\n",
       "horsepower            2\n",
       "engine-type           0\n",
       "highway-mpg           0\n",
       "city-mpg              0\n",
       "compression-ratio     0\n",
       "fuel-system           0\n",
       "engine-size           0\n",
       "num-of-cylinders      0\n",
       "symboling             0\n",
       "height                0\n",
       "width                 0\n",
       "length                0\n",
       "wheel-base            0\n",
       "engine-location       0\n",
       "drive-wheels          0\n",
       "body-style            0\n",
       "aspiration            0\n",
       "fuel-type             0\n",
       "make                  0\n",
       "curb-weight           0\n",
       "dtype: int64"
      ]
     },
     "execution_count": 7,
     "metadata": {},
     "output_type": "execute_result"
    }
   ],
   "source": [
    "df.isnull().sum().sort_values(ascending=False)"
   ]
  },
  {
   "cell_type": "code",
   "execution_count": 8,
   "id": "7a19c61e",
   "metadata": {
    "scrolled": true
   },
   "outputs": [
    {
     "name": "stdout",
     "output_type": "stream",
     "text": [
      "<class 'pandas.core.frame.DataFrame'>\n",
      "RangeIndex: 205 entries, 0 to 204\n",
      "Data columns (total 26 columns):\n",
      " #   Column             Non-Null Count  Dtype  \n",
      "---  ------             --------------  -----  \n",
      " 0   symboling          205 non-null    int64  \n",
      " 1   normalized-losses  164 non-null    object \n",
      " 2   make               205 non-null    object \n",
      " 3   fuel-type          205 non-null    object \n",
      " 4   aspiration         205 non-null    object \n",
      " 5   num-of-doors       203 non-null    object \n",
      " 6   body-style         205 non-null    object \n",
      " 7   drive-wheels       205 non-null    object \n",
      " 8   engine-location    205 non-null    object \n",
      " 9   wheel-base         205 non-null    float64\n",
      " 10  length             205 non-null    float64\n",
      " 11  width              205 non-null    float64\n",
      " 12  height             205 non-null    float64\n",
      " 13  curb-weight        205 non-null    int64  \n",
      " 14  engine-type        205 non-null    object \n",
      " 15  num-of-cylinders   205 non-null    object \n",
      " 16  engine-size        205 non-null    int64  \n",
      " 17  fuel-system        205 non-null    object \n",
      " 18  bore               201 non-null    object \n",
      " 19  stroke             201 non-null    object \n",
      " 20  compression-ratio  205 non-null    float64\n",
      " 21  horsepower         203 non-null    object \n",
      " 22  peak-rpm           203 non-null    object \n",
      " 23  city-mpg           205 non-null    int64  \n",
      " 24  highway-mpg        205 non-null    int64  \n",
      " 25  price              201 non-null    object \n",
      "dtypes: float64(5), int64(5), object(16)\n",
      "memory usage: 41.8+ KB\n"
     ]
    }
   ],
   "source": [
    "df.info()"
   ]
  },
  {
   "cell_type": "markdown",
   "id": "f56fa574",
   "metadata": {},
   "source": [
    "### Modificando el tipo de dato de las columnas que presentaban valores nulos."
   ]
  },
  {
   "cell_type": "markdown",
   "id": "35653a74",
   "metadata": {},
   "source": [
    "Pandas, al leer un archivo, automáticamente establece un tipo de datos para cada columna.\n",
    "\n",
    "Los valores nulos que inicialmente eran \"?\" hacían que la columna fuese tipo objeto, siendo cada dato object o no, así que debemos modificar el formato de cada columna segun sea su caso."
   ]
  },
  {
   "cell_type": "code",
   "execution_count": 9,
   "id": "b86fb98a",
   "metadata": {},
   "outputs": [],
   "source": [
    "df[\"normalized-losses\"] = df[\"normalized-losses\"].astype(\"Int64\")\n",
    "df[\"bore\"] = df[\"bore\"].astype(\"Float64\")\n",
    "df[\"stroke\"] = df[\"stroke\"].astype(\"Float64\")\n",
    "df[\"horsepower\"] = df[\"horsepower\"].astype(\"Int64\")\n",
    "df[\"peak-rpm\"] = df[\"peak-rpm\"].astype(\"Int64\")\n",
    "df[\"price\"] = df[\"price\"].astype(\"Int64\")"
   ]
  },
  {
   "cell_type": "markdown",
   "id": "c5e242f0",
   "metadata": {},
   "source": [
    "Cambiar las celdas que tienen el valor \"?\" por np.nan (que es un valor nulo) nos permite cambiar el tipo de dato a int o float. El tipo de dato nos permitirá poder hacer operaciones matematicas con las columnas que tienen el datatype numérico, a pesar de tener valores nulos."
   ]
  },
  {
   "cell_type": "markdown",
   "id": "69d90006",
   "metadata": {},
   "source": [
    "### Sustituyendo valores nulos."
   ]
  },
  {
   "cell_type": "markdown",
   "id": "2896bf1d",
   "metadata": {},
   "source": [
    "Ahora debemos sustituir los valores nulos segun sea conveniente segun el tipo de dato. Dependiendo del uso que vaya a tener la data es que se debería considerar sustituir los valores nulos intentando estimar el valor faltante (con el promedio, la moda, etc) o eliminar la fila o columna que presente valores faltantes. "
   ]
  },
  {
   "cell_type": "code",
   "execution_count": 10,
   "id": "54e85ded",
   "metadata": {},
   "outputs": [
    {
     "data": {
      "text/plain": [
       "65"
      ]
     },
     "execution_count": 10,
     "metadata": {},
     "output_type": "execute_result"
    }
   ],
   "source": [
    "df[\"normalized-losses\"].min()"
   ]
  },
  {
   "cell_type": "code",
   "execution_count": 11,
   "id": "26d9c410",
   "metadata": {},
   "outputs": [
    {
     "data": {
      "text/plain": [
       "256"
      ]
     },
     "execution_count": 11,
     "metadata": {},
     "output_type": "execute_result"
    }
   ],
   "source": [
    "df[\"normalized-losses\"].max()"
   ]
  },
  {
   "cell_type": "code",
   "execution_count": 12,
   "id": "109181f2",
   "metadata": {},
   "outputs": [
    {
     "data": {
      "text/plain": [
       "122.0"
      ]
     },
     "execution_count": 12,
     "metadata": {},
     "output_type": "execute_result"
    }
   ],
   "source": [
    "df[\"normalized-losses\"].mean()"
   ]
  },
  {
   "cell_type": "code",
   "execution_count": 13,
   "id": "76af2239",
   "metadata": {},
   "outputs": [
    {
     "data": {
      "text/plain": [
       "20.0"
      ]
     },
     "execution_count": 13,
     "metadata": {},
     "output_type": "execute_result"
    }
   ],
   "source": [
    "percent_missing = df[\"normalized-losses\"].isnull().sum() * 100 / len(df[\"normalized-losses\"])\n",
    "percent_missing"
   ]
  },
  {
   "cell_type": "markdown",
   "id": "6b48db5f",
   "metadata": {},
   "source": [
    "Como el porcentaje de datos faltantes de las pérdidas normalizadas es tan grande (1 de cada 5 datos en las perdidas normalizadas está ausente) y aunque puedo sustituir los valores ausentes por el promedio, ya que es una variable continua, lo ideal será no utilizar la variable o las columnas con los datos faltantes como referencia para determinar algun tipo de correlación, para modelos predictivos o para análisis. De ser necesaria en algun modelo o en algun tipo de análisis, lo ideal sería eliminar las columnas en las que presente valores nulos para evitar que el 20% de ellos afecte el modelo (se suele cosiderar un numero de datos faltantes mayor o igual al 10% como inaceptable)."
   ]
  },
  {
   "cell_type": "code",
   "execution_count": 14,
   "id": "552adfeb",
   "metadata": {
    "scrolled": true
   },
   "outputs": [
    {
     "data": {
      "text/html": [
       "<div>\n",
       "<style scoped>\n",
       "    .dataframe tbody tr th:only-of-type {\n",
       "        vertical-align: middle;\n",
       "    }\n",
       "\n",
       "    .dataframe tbody tr th {\n",
       "        vertical-align: top;\n",
       "    }\n",
       "\n",
       "    .dataframe thead th {\n",
       "        text-align: right;\n",
       "    }\n",
       "</style>\n",
       "<table border=\"1\" class=\"dataframe\">\n",
       "  <thead>\n",
       "    <tr style=\"text-align: right;\">\n",
       "      <th></th>\n",
       "      <th>symboling</th>\n",
       "      <th>normalized-losses</th>\n",
       "      <th>make</th>\n",
       "      <th>fuel-type</th>\n",
       "      <th>aspiration</th>\n",
       "      <th>num-of-doors</th>\n",
       "      <th>body-style</th>\n",
       "      <th>drive-wheels</th>\n",
       "      <th>engine-location</th>\n",
       "      <th>wheel-base</th>\n",
       "      <th>...</th>\n",
       "      <th>engine-size</th>\n",
       "      <th>fuel-system</th>\n",
       "      <th>bore</th>\n",
       "      <th>stroke</th>\n",
       "      <th>compression-ratio</th>\n",
       "      <th>horsepower</th>\n",
       "      <th>peak-rpm</th>\n",
       "      <th>city-mpg</th>\n",
       "      <th>highway-mpg</th>\n",
       "      <th>price</th>\n",
       "    </tr>\n",
       "  </thead>\n",
       "  <tbody>\n",
       "    <tr>\n",
       "      <th>27</th>\n",
       "      <td>1</td>\n",
       "      <td>148</td>\n",
       "      <td>dodge</td>\n",
       "      <td>gas</td>\n",
       "      <td>turbo</td>\n",
       "      <td>NaN</td>\n",
       "      <td>sedan</td>\n",
       "      <td>fwd</td>\n",
       "      <td>front</td>\n",
       "      <td>93.7</td>\n",
       "      <td>...</td>\n",
       "      <td>98</td>\n",
       "      <td>mpfi</td>\n",
       "      <td>3.03</td>\n",
       "      <td>3.39</td>\n",
       "      <td>7.6</td>\n",
       "      <td>102</td>\n",
       "      <td>5500</td>\n",
       "      <td>24</td>\n",
       "      <td>30</td>\n",
       "      <td>8558</td>\n",
       "    </tr>\n",
       "    <tr>\n",
       "      <th>63</th>\n",
       "      <td>0</td>\n",
       "      <td>&lt;NA&gt;</td>\n",
       "      <td>mazda</td>\n",
       "      <td>diesel</td>\n",
       "      <td>std</td>\n",
       "      <td>NaN</td>\n",
       "      <td>sedan</td>\n",
       "      <td>fwd</td>\n",
       "      <td>front</td>\n",
       "      <td>98.8</td>\n",
       "      <td>...</td>\n",
       "      <td>122</td>\n",
       "      <td>idi</td>\n",
       "      <td>3.39</td>\n",
       "      <td>3.39</td>\n",
       "      <td>22.7</td>\n",
       "      <td>64</td>\n",
       "      <td>4650</td>\n",
       "      <td>36</td>\n",
       "      <td>42</td>\n",
       "      <td>10795</td>\n",
       "    </tr>\n",
       "  </tbody>\n",
       "</table>\n",
       "<p>2 rows × 26 columns</p>\n",
       "</div>"
      ],
      "text/plain": [
       "    symboling  normalized-losses   make fuel-type aspiration num-of-doors  \\\n",
       "27          1                148  dodge       gas      turbo          NaN   \n",
       "63          0               <NA>  mazda    diesel        std          NaN   \n",
       "\n",
       "   body-style drive-wheels engine-location  wheel-base  ...  engine-size  \\\n",
       "27      sedan          fwd           front        93.7  ...           98   \n",
       "63      sedan          fwd           front        98.8  ...          122   \n",
       "\n",
       "    fuel-system  bore  stroke compression-ratio horsepower  peak-rpm city-mpg  \\\n",
       "27         mpfi  3.03    3.39               7.6        102      5500       24   \n",
       "63          idi  3.39    3.39              22.7         64      4650       36   \n",
       "\n",
       "    highway-mpg  price  \n",
       "27           30   8558  \n",
       "63           42  10795  \n",
       "\n",
       "[2 rows x 26 columns]"
      ]
     },
     "execution_count": 14,
     "metadata": {},
     "output_type": "execute_result"
    }
   ],
   "source": [
    "df[df['num-of-doors'].isnull()]"
   ]
  },
  {
   "cell_type": "code",
   "execution_count": 15,
   "id": "97c03808",
   "metadata": {},
   "outputs": [
    {
     "data": {
      "text/plain": [
       "four    79\n",
       "two     15\n",
       "Name: num-of-doors, dtype: int64"
      ]
     },
     "execution_count": 15,
     "metadata": {},
     "output_type": "execute_result"
    }
   ],
   "source": [
    "df[df['body-style'] == \"sedan\"]['num-of-doors'].value_counts()"
   ]
  },
  {
   "cell_type": "markdown",
   "id": "95408e86",
   "metadata": {},
   "source": [
    "Como el número de puertas en un vehículo es una variable discreta, no tiene mucho sentido usar un promedio, en cambio, sustituir por el valor más probable tiene mucho más sentido."
   ]
  },
  {
   "cell_type": "code",
   "execution_count": 16,
   "id": "6b47bff6",
   "metadata": {},
   "outputs": [
    {
     "data": {
      "text/plain": [
       "array(['two', 'four'], dtype=object)"
      ]
     },
     "execution_count": 16,
     "metadata": {},
     "output_type": "execute_result"
    }
   ],
   "source": [
    "df[\"num-of-doors\"].replace(np.nan, \"four\", inplace = True)\n",
    "df[\"num-of-doors\"].unique()"
   ]
  },
  {
   "cell_type": "code",
   "execution_count": 17,
   "id": "4d03c0cf",
   "metadata": {},
   "outputs": [
    {
     "data": {
      "text/plain": [
       "3.3297512437810943"
      ]
     },
     "execution_count": 17,
     "metadata": {},
     "output_type": "execute_result"
    }
   ],
   "source": [
    "df[\"bore\"].mean()"
   ]
  },
  {
   "cell_type": "code",
   "execution_count": 18,
   "id": "dd63f23a",
   "metadata": {
    "scrolled": true
   },
   "outputs": [
    {
     "data": {
      "text/plain": [
       "[3.27, 3.31, 3.33, 3.34, 3.35, 3.39]"
      ]
     },
     "execution_count": 18,
     "metadata": {},
     "output_type": "execute_result"
    }
   ],
   "source": [
    "sorted(df[(df[\"bore\"] > 3.25) & (df[\"bore\"] < 3.40)][\"bore\"].unique())"
   ]
  },
  {
   "cell_type": "markdown",
   "id": "5f152dd0",
   "metadata": {},
   "source": [
    "Los condicionales aquí quizás no son de gran importancia, pero en un set de datos grande nos permite solo obtener la información necesaria."
   ]
  },
  {
   "cell_type": "markdown",
   "id": "e6c68e86",
   "metadata": {},
   "source": [
    "Como \"bore\" es el ancho de un cilindro, y como es probable que sean de dimensiones \"exactas\", es decir, digamos que de 3.5 salta a 3.54, no puede haber un tamaño intermedio de los cilindros. Como el promedio es 3.3297, que redondeado sería 3.33, sustituiré el valor nulo por 3.33."
   ]
  },
  {
   "cell_type": "code",
   "execution_count": 19,
   "id": "c82562fd",
   "metadata": {},
   "outputs": [],
   "source": [
    "df[\"bore\"].replace(np.nan, 3.33, inplace = True)"
   ]
  },
  {
   "cell_type": "code",
   "execution_count": 20,
   "id": "5f88931e",
   "metadata": {},
   "outputs": [
    {
     "data": {
      "text/plain": [
       "3.255422885572139"
      ]
     },
     "execution_count": 20,
     "metadata": {},
     "output_type": "execute_result"
    }
   ],
   "source": [
    "df[\"stroke\"].mean()"
   ]
  },
  {
   "cell_type": "code",
   "execution_count": 21,
   "id": "a06c0d0c",
   "metadata": {},
   "outputs": [
    {
     "data": {
      "text/plain": [
       "[3.11, 3.12, 3.15, 3.16, 3.19, 3.21, 3.23, 3.27, 3.29]"
      ]
     },
     "execution_count": 21,
     "metadata": {},
     "output_type": "execute_result"
    }
   ],
   "source": [
    "sorted(df[(df[\"stroke\"] > 3.10) & (df[\"stroke\"] < 3.35)][\"stroke\"].unique())"
   ]
  },
  {
   "cell_type": "markdown",
   "id": "d53819e6",
   "metadata": {},
   "source": [
    "De igual manera, como \"stroke\" es la distancia desde el punto mas bajo al punto mas alto en el que se mueve el piston, seguramente será un tamaño exacto, asi que se sustituira el valor nulo por el mas cercano al promedio."
   ]
  },
  {
   "cell_type": "code",
   "execution_count": 22,
   "id": "636e56c5",
   "metadata": {},
   "outputs": [],
   "source": [
    "df[\"stroke\"].replace(np.nan, 3.27, inplace = True)"
   ]
  },
  {
   "cell_type": "code",
   "execution_count": 23,
   "id": "aff9cd9e",
   "metadata": {},
   "outputs": [
    {
     "data": {
      "text/plain": [
       "count         203.0\n",
       "mean     104.256158\n",
       "std       39.714369\n",
       "min            48.0\n",
       "25%            70.0\n",
       "50%            95.0\n",
       "75%           116.0\n",
       "max           288.0\n",
       "Name: horsepower, dtype: Float64"
      ]
     },
     "execution_count": 23,
     "metadata": {},
     "output_type": "execute_result"
    }
   ],
   "source": [
    "df[\"horsepower\"].describe()"
   ]
  },
  {
   "cell_type": "markdown",
   "id": "00617468",
   "metadata": {},
   "source": [
    "En el caso de los caballos de fuerza de un vehículo, es un cálculo que debe realizarse con el torque y las revoluciones por minuto. Como en este caso no lo tenemos, utilizaremos una fórmula que muestra un resultado aproximado, la cual es \"bore\" por \"stroke\" por \"numero de cilindros\" por 3,14. "
   ]
  },
  {
   "cell_type": "code",
   "execution_count": 24,
   "id": "579432cf",
   "metadata": {
    "scrolled": true
   },
   "outputs": [
    {
     "data": {
      "text/html": [
       "<div>\n",
       "<style scoped>\n",
       "    .dataframe tbody tr th:only-of-type {\n",
       "        vertical-align: middle;\n",
       "    }\n",
       "\n",
       "    .dataframe tbody tr th {\n",
       "        vertical-align: top;\n",
       "    }\n",
       "\n",
       "    .dataframe thead th {\n",
       "        text-align: right;\n",
       "    }\n",
       "</style>\n",
       "<table border=\"1\" class=\"dataframe\">\n",
       "  <thead>\n",
       "    <tr style=\"text-align: right;\">\n",
       "      <th></th>\n",
       "      <th>bore</th>\n",
       "      <th>stroke</th>\n",
       "      <th>num-of-cylinders</th>\n",
       "    </tr>\n",
       "  </thead>\n",
       "  <tbody>\n",
       "    <tr>\n",
       "      <th>0</th>\n",
       "      <td>3.47</td>\n",
       "      <td>2.68</td>\n",
       "      <td>four</td>\n",
       "    </tr>\n",
       "    <tr>\n",
       "      <th>1</th>\n",
       "      <td>3.47</td>\n",
       "      <td>2.68</td>\n",
       "      <td>four</td>\n",
       "    </tr>\n",
       "    <tr>\n",
       "      <th>2</th>\n",
       "      <td>2.68</td>\n",
       "      <td>3.47</td>\n",
       "      <td>six</td>\n",
       "    </tr>\n",
       "    <tr>\n",
       "      <th>3</th>\n",
       "      <td>3.19</td>\n",
       "      <td>3.4</td>\n",
       "      <td>four</td>\n",
       "    </tr>\n",
       "    <tr>\n",
       "      <th>4</th>\n",
       "      <td>3.19</td>\n",
       "      <td>3.4</td>\n",
       "      <td>five</td>\n",
       "    </tr>\n",
       "    <tr>\n",
       "      <th>...</th>\n",
       "      <td>...</td>\n",
       "      <td>...</td>\n",
       "      <td>...</td>\n",
       "    </tr>\n",
       "    <tr>\n",
       "      <th>200</th>\n",
       "      <td>3.78</td>\n",
       "      <td>3.15</td>\n",
       "      <td>four</td>\n",
       "    </tr>\n",
       "    <tr>\n",
       "      <th>201</th>\n",
       "      <td>3.78</td>\n",
       "      <td>3.15</td>\n",
       "      <td>four</td>\n",
       "    </tr>\n",
       "    <tr>\n",
       "      <th>202</th>\n",
       "      <td>3.58</td>\n",
       "      <td>2.87</td>\n",
       "      <td>six</td>\n",
       "    </tr>\n",
       "    <tr>\n",
       "      <th>203</th>\n",
       "      <td>3.01</td>\n",
       "      <td>3.4</td>\n",
       "      <td>six</td>\n",
       "    </tr>\n",
       "    <tr>\n",
       "      <th>204</th>\n",
       "      <td>3.78</td>\n",
       "      <td>3.15</td>\n",
       "      <td>four</td>\n",
       "    </tr>\n",
       "  </tbody>\n",
       "</table>\n",
       "<p>205 rows × 3 columns</p>\n",
       "</div>"
      ],
      "text/plain": [
       "     bore  stroke num-of-cylinders\n",
       "0    3.47    2.68             four\n",
       "1    3.47    2.68             four\n",
       "2    2.68    3.47              six\n",
       "3    3.19     3.4             four\n",
       "4    3.19     3.4             five\n",
       "..    ...     ...              ...\n",
       "200  3.78    3.15             four\n",
       "201  3.78    3.15             four\n",
       "202  3.58    2.87              six\n",
       "203  3.01     3.4              six\n",
       "204  3.78    3.15             four\n",
       "\n",
       "[205 rows x 3 columns]"
      ]
     },
     "execution_count": 24,
     "metadata": {},
     "output_type": "execute_result"
    }
   ],
   "source": [
    "df[[\"bore\", \"stroke\", \"num-of-cylinders\"]]"
   ]
  },
  {
   "cell_type": "markdown",
   "id": "5c079495",
   "metadata": {},
   "source": [
    "Como el número de cilindros no está en un tipo de dato numérico, lo debemos convertir en numérico y así poder realizar el calculo"
   ]
  },
  {
   "cell_type": "code",
   "execution_count": 25,
   "id": "ad6cf6bc",
   "metadata": {},
   "outputs": [
    {
     "data": {
      "text/plain": [
       "array(['four', 'six', 'five', 'three', 'twelve', 'two', 'eight'],\n",
       "      dtype=object)"
      ]
     },
     "execution_count": 25,
     "metadata": {},
     "output_type": "execute_result"
    }
   ],
   "source": [
    "df['num-of-cylinders'].unique()"
   ]
  },
  {
   "cell_type": "code",
   "execution_count": 26,
   "id": "5dffc271",
   "metadata": {},
   "outputs": [
    {
     "data": {
      "text/plain": [
       "0      4\n",
       "1      4\n",
       "2      6\n",
       "3      4\n",
       "4      5\n",
       "      ..\n",
       "200    4\n",
       "201    4\n",
       "202    6\n",
       "203    6\n",
       "204    4\n",
       "Name: num-of-cylinders, Length: 205, dtype: int64"
      ]
     },
     "execution_count": 26,
     "metadata": {},
     "output_type": "execute_result"
    }
   ],
   "source": [
    "df['num-of-cylinders'].replace({'two': 2, 'three': 3, 'four': 4, 'five': 5, 'six': 6, 'eight': 8, 'twelve': 12}, inplace=True)\n",
    "df['num-of-cylinders']"
   ]
  },
  {
   "cell_type": "code",
   "execution_count": 27,
   "id": "192ab97c",
   "metadata": {},
   "outputs": [
    {
     "data": {
      "text/html": [
       "<div>\n",
       "<style scoped>\n",
       "    .dataframe tbody tr th:only-of-type {\n",
       "        vertical-align: middle;\n",
       "    }\n",
       "\n",
       "    .dataframe tbody tr th {\n",
       "        vertical-align: top;\n",
       "    }\n",
       "\n",
       "    .dataframe thead th {\n",
       "        text-align: right;\n",
       "    }\n",
       "</style>\n",
       "<table border=\"1\" class=\"dataframe\">\n",
       "  <thead>\n",
       "    <tr style=\"text-align: right;\">\n",
       "      <th></th>\n",
       "      <th>symboling</th>\n",
       "      <th>normalized-losses</th>\n",
       "      <th>make</th>\n",
       "      <th>fuel-type</th>\n",
       "      <th>aspiration</th>\n",
       "      <th>num-of-doors</th>\n",
       "      <th>body-style</th>\n",
       "      <th>drive-wheels</th>\n",
       "      <th>engine-location</th>\n",
       "      <th>wheel-base</th>\n",
       "      <th>...</th>\n",
       "      <th>engine-size</th>\n",
       "      <th>fuel-system</th>\n",
       "      <th>bore</th>\n",
       "      <th>stroke</th>\n",
       "      <th>compression-ratio</th>\n",
       "      <th>horsepower</th>\n",
       "      <th>peak-rpm</th>\n",
       "      <th>city-mpg</th>\n",
       "      <th>highway-mpg</th>\n",
       "      <th>price</th>\n",
       "    </tr>\n",
       "  </thead>\n",
       "  <tbody>\n",
       "    <tr>\n",
       "      <th>130</th>\n",
       "      <td>0</td>\n",
       "      <td>&lt;NA&gt;</td>\n",
       "      <td>renault</td>\n",
       "      <td>gas</td>\n",
       "      <td>std</td>\n",
       "      <td>four</td>\n",
       "      <td>wagon</td>\n",
       "      <td>fwd</td>\n",
       "      <td>front</td>\n",
       "      <td>96.1</td>\n",
       "      <td>...</td>\n",
       "      <td>132</td>\n",
       "      <td>mpfi</td>\n",
       "      <td>3.46</td>\n",
       "      <td>3.9</td>\n",
       "      <td>8.7</td>\n",
       "      <td>&lt;NA&gt;</td>\n",
       "      <td>&lt;NA&gt;</td>\n",
       "      <td>23</td>\n",
       "      <td>31</td>\n",
       "      <td>9295</td>\n",
       "    </tr>\n",
       "    <tr>\n",
       "      <th>131</th>\n",
       "      <td>2</td>\n",
       "      <td>&lt;NA&gt;</td>\n",
       "      <td>renault</td>\n",
       "      <td>gas</td>\n",
       "      <td>std</td>\n",
       "      <td>two</td>\n",
       "      <td>hatchback</td>\n",
       "      <td>fwd</td>\n",
       "      <td>front</td>\n",
       "      <td>96.1</td>\n",
       "      <td>...</td>\n",
       "      <td>132</td>\n",
       "      <td>mpfi</td>\n",
       "      <td>3.46</td>\n",
       "      <td>3.9</td>\n",
       "      <td>8.7</td>\n",
       "      <td>&lt;NA&gt;</td>\n",
       "      <td>&lt;NA&gt;</td>\n",
       "      <td>23</td>\n",
       "      <td>31</td>\n",
       "      <td>9895</td>\n",
       "    </tr>\n",
       "  </tbody>\n",
       "</table>\n",
       "<p>2 rows × 26 columns</p>\n",
       "</div>"
      ],
      "text/plain": [
       "     symboling  normalized-losses     make fuel-type aspiration num-of-doors  \\\n",
       "130          0               <NA>  renault       gas        std         four   \n",
       "131          2               <NA>  renault       gas        std          two   \n",
       "\n",
       "    body-style drive-wheels engine-location  wheel-base  ...  engine-size  \\\n",
       "130      wagon          fwd           front        96.1  ...          132   \n",
       "131  hatchback          fwd           front        96.1  ...          132   \n",
       "\n",
       "     fuel-system  bore  stroke compression-ratio  horsepower  peak-rpm  \\\n",
       "130         mpfi  3.46     3.9               8.7        <NA>      <NA>   \n",
       "131         mpfi  3.46     3.9               8.7        <NA>      <NA>   \n",
       "\n",
       "    city-mpg  highway-mpg  price  \n",
       "130       23           31   9295  \n",
       "131       23           31   9895  \n",
       "\n",
       "[2 rows x 26 columns]"
      ]
     },
     "execution_count": 27,
     "metadata": {},
     "output_type": "execute_result"
    }
   ],
   "source": [
    "df_hp = round(df['bore'] * df['stroke'] * df['num-of-cylinders'] * 3.14)\n",
    "df_hp = df_hp.astype('int64')\n",
    "\n",
    "df.iloc[[130, 131]]"
   ]
  },
  {
   "cell_type": "code",
   "execution_count": 28,
   "id": "a7daa834",
   "metadata": {},
   "outputs": [
    {
     "data": {
      "text/plain": [
       "0      111\n",
       "1      111\n",
       "2      154\n",
       "3      102\n",
       "4      115\n",
       "      ... \n",
       "200    114\n",
       "201    160\n",
       "202    134\n",
       "203    106\n",
       "204    114\n",
       "Name: horsepower, Length: 205, dtype: Int64"
      ]
     },
     "execution_count": 28,
     "metadata": {},
     "output_type": "execute_result"
    }
   ],
   "source": [
    "df[\"horsepower\"].fillna(df_hp, inplace=True)\n",
    "df[\"horsepower\"]"
   ]
  },
  {
   "cell_type": "code",
   "execution_count": 29,
   "id": "01183f8a",
   "metadata": {},
   "outputs": [
    {
     "data": {
      "text/html": [
       "<div>\n",
       "<style scoped>\n",
       "    .dataframe tbody tr th:only-of-type {\n",
       "        vertical-align: middle;\n",
       "    }\n",
       "\n",
       "    .dataframe tbody tr th {\n",
       "        vertical-align: top;\n",
       "    }\n",
       "\n",
       "    .dataframe thead th {\n",
       "        text-align: right;\n",
       "    }\n",
       "</style>\n",
       "<table border=\"1\" class=\"dataframe\">\n",
       "  <thead>\n",
       "    <tr style=\"text-align: right;\">\n",
       "      <th></th>\n",
       "      <th>symboling</th>\n",
       "      <th>normalized-losses</th>\n",
       "      <th>make</th>\n",
       "      <th>fuel-type</th>\n",
       "      <th>aspiration</th>\n",
       "      <th>num-of-doors</th>\n",
       "      <th>body-style</th>\n",
       "      <th>drive-wheels</th>\n",
       "      <th>engine-location</th>\n",
       "      <th>wheel-base</th>\n",
       "      <th>...</th>\n",
       "      <th>engine-size</th>\n",
       "      <th>fuel-system</th>\n",
       "      <th>bore</th>\n",
       "      <th>stroke</th>\n",
       "      <th>compression-ratio</th>\n",
       "      <th>horsepower</th>\n",
       "      <th>peak-rpm</th>\n",
       "      <th>city-mpg</th>\n",
       "      <th>highway-mpg</th>\n",
       "      <th>price</th>\n",
       "    </tr>\n",
       "  </thead>\n",
       "  <tbody>\n",
       "    <tr>\n",
       "      <th>130</th>\n",
       "      <td>0</td>\n",
       "      <td>&lt;NA&gt;</td>\n",
       "      <td>renault</td>\n",
       "      <td>gas</td>\n",
       "      <td>std</td>\n",
       "      <td>four</td>\n",
       "      <td>wagon</td>\n",
       "      <td>fwd</td>\n",
       "      <td>front</td>\n",
       "      <td>96.1</td>\n",
       "      <td>...</td>\n",
       "      <td>132</td>\n",
       "      <td>mpfi</td>\n",
       "      <td>3.46</td>\n",
       "      <td>3.9</td>\n",
       "      <td>8.7</td>\n",
       "      <td>169</td>\n",
       "      <td>&lt;NA&gt;</td>\n",
       "      <td>23</td>\n",
       "      <td>31</td>\n",
       "      <td>9295</td>\n",
       "    </tr>\n",
       "    <tr>\n",
       "      <th>131</th>\n",
       "      <td>2</td>\n",
       "      <td>&lt;NA&gt;</td>\n",
       "      <td>renault</td>\n",
       "      <td>gas</td>\n",
       "      <td>std</td>\n",
       "      <td>two</td>\n",
       "      <td>hatchback</td>\n",
       "      <td>fwd</td>\n",
       "      <td>front</td>\n",
       "      <td>96.1</td>\n",
       "      <td>...</td>\n",
       "      <td>132</td>\n",
       "      <td>mpfi</td>\n",
       "      <td>3.46</td>\n",
       "      <td>3.9</td>\n",
       "      <td>8.7</td>\n",
       "      <td>169</td>\n",
       "      <td>&lt;NA&gt;</td>\n",
       "      <td>23</td>\n",
       "      <td>31</td>\n",
       "      <td>9895</td>\n",
       "    </tr>\n",
       "  </tbody>\n",
       "</table>\n",
       "<p>2 rows × 26 columns</p>\n",
       "</div>"
      ],
      "text/plain": [
       "     symboling  normalized-losses     make fuel-type aspiration num-of-doors  \\\n",
       "130          0               <NA>  renault       gas        std         four   \n",
       "131          2               <NA>  renault       gas        std          two   \n",
       "\n",
       "    body-style drive-wheels engine-location  wheel-base  ...  engine-size  \\\n",
       "130      wagon          fwd           front        96.1  ...          132   \n",
       "131  hatchback          fwd           front        96.1  ...          132   \n",
       "\n",
       "     fuel-system  bore  stroke compression-ratio  horsepower  peak-rpm  \\\n",
       "130         mpfi  3.46     3.9               8.7         169      <NA>   \n",
       "131         mpfi  3.46     3.9               8.7         169      <NA>   \n",
       "\n",
       "    city-mpg  highway-mpg  price  \n",
       "130       23           31   9295  \n",
       "131       23           31   9895  \n",
       "\n",
       "[2 rows x 26 columns]"
      ]
     },
     "execution_count": 29,
     "metadata": {},
     "output_type": "execute_result"
    }
   ],
   "source": [
    "df.iloc[[130, 131]]"
   ]
  },
  {
   "cell_type": "markdown",
   "id": "84b7caf3",
   "metadata": {},
   "source": [
    "Si modificamos el valor nulo por la media, habriamos cambiado los caballos de fuerza por 104, mientras que según el cálculo los caballos de fuerza de estos vehículos son de 169. De igual manera esto es para acercarnos al valor real, ya que el valor real necesita un cálculo con más variables porque el valor de los caballos de fuerza según esta fórmula varía un poco del valor real."
   ]
  },
  {
   "cell_type": "markdown",
   "id": "12e2e95d",
   "metadata": {},
   "source": [
    "Este tipo de cálculos pueden extender el proceso pero en algunos casos puede ayudar a no perder datos que pueden ser importantes y en algunos casos los cálculos son sencillos y muy precisos."
   ]
  },
  {
   "cell_type": "markdown",
   "id": "7ef8e78e",
   "metadata": {},
   "source": [
    "En el caso del pico de RPM, para el cálculo necesitamos conocer los caballos de fuerza y el torque, y como no tenemos información del torque, sistutuiremos por la media."
   ]
  },
  {
   "cell_type": "code",
   "execution_count": 30,
   "id": "7b515a3b",
   "metadata": {},
   "outputs": [
    {
     "data": {
      "text/plain": [
       "5125.369458128079"
      ]
     },
     "execution_count": 30,
     "metadata": {},
     "output_type": "execute_result"
    }
   ],
   "source": [
    "df[\"peak-rpm\"].mean()"
   ]
  },
  {
   "cell_type": "code",
   "execution_count": 31,
   "id": "de9b81f6",
   "metadata": {
    "scrolled": false
   },
   "outputs": [
    {
     "data": {
      "text/plain": [
       "<IntegerArray>\n",
       "[5000, 5500, 5800, 4250, 5400, 5100, 4800, 6000, 4750, 4650, 4200, 4350, 4500,\n",
       " 5200, 4150, 5600, 5900, 5750, <NA>, 5250, 4900, 4400, 6600, 5300]\n",
       "Length: 24, dtype: Int64"
      ]
     },
     "execution_count": 31,
     "metadata": {},
     "output_type": "execute_result"
    }
   ],
   "source": [
    "df[\"peak-rpm\"].unique()"
   ]
  },
  {
   "cell_type": "markdown",
   "id": "1c24db6d",
   "metadata": {},
   "source": [
    "En este caso, la variable es discreta y va en multiplos de 100, así que se sustituirá por el valor mas cercano."
   ]
  },
  {
   "cell_type": "code",
   "execution_count": 32,
   "id": "829a51f0",
   "metadata": {},
   "outputs": [],
   "source": [
    "df[\"peak-rpm\"].replace(np.nan, 5100, inplace = True)"
   ]
  },
  {
   "cell_type": "code",
   "execution_count": 33,
   "id": "00332007",
   "metadata": {},
   "outputs": [
    {
     "data": {
      "text/plain": [
       "count           201.0\n",
       "mean     13207.129353\n",
       "std       7947.066342\n",
       "min            5118.0\n",
       "25%            7775.0\n",
       "50%           10295.0\n",
       "75%           16500.0\n",
       "max           45400.0\n",
       "Name: price, dtype: Float64"
      ]
     },
     "execution_count": 33,
     "metadata": {},
     "output_type": "execute_result"
    }
   ],
   "source": [
    "df[\"price\"].describe()"
   ]
  },
  {
   "cell_type": "markdown",
   "id": "ac4623e3",
   "metadata": {},
   "source": [
    "En cuanto al precio no hay fórmula precisa, ya que el precio puede ser afectado por muchísimas variables y estimaciones de parte de la marca. Como son solo 4 filas que no contienen informacion en el precio y como seguramente en casi cualquier análisis que se haga se tomará muy en cuenta el precio, la mejor opcion seria desechar las filas."
   ]
  },
  {
   "cell_type": "markdown",
   "id": "38d1d2c0",
   "metadata": {},
   "source": [
    "En este caso se sustituirá por el entero más cercano al promedio para mostrar como, el sustutuir por el promedio aunque a veces pueda ser razonable, también afecta estadísticamente la desviación, los algunos percentiles y la mediana."
   ]
  },
  {
   "cell_type": "code",
   "execution_count": 34,
   "id": "e154df89",
   "metadata": {},
   "outputs": [],
   "source": [
    "df[\"price\"].replace(np.nan, 13207, inplace = True)"
   ]
  },
  {
   "cell_type": "code",
   "execution_count": 35,
   "id": "35ed8af7",
   "metadata": {},
   "outputs": [
    {
     "data": {
      "text/plain": [
       "count           205.0\n",
       "mean     13207.126829\n",
       "std       7868.768212\n",
       "min            5118.0\n",
       "25%            7788.0\n",
       "50%           10595.0\n",
       "75%           16500.0\n",
       "max           45400.0\n",
       "Name: price, dtype: Float64"
      ]
     },
     "execution_count": 35,
     "metadata": {},
     "output_type": "execute_result"
    }
   ],
   "source": [
    "df[\"price\"].describe()"
   ]
  },
  {
   "cell_type": "markdown",
   "id": "aa3a837c",
   "metadata": {},
   "source": [
    "Una vez corregidos los valores nulos o ausentes, debemos normalizar y estandarizar la data."
   ]
  },
  {
   "cell_type": "markdown",
   "id": "9ec48581",
   "metadata": {},
   "source": [
    "## Estandarizar la data."
   ]
  },
  {
   "cell_type": "markdown",
   "id": "df559d15",
   "metadata": {},
   "source": [
    "La data puede venir en practicamente cualquier formato y no necesariamente se ajusta a nuestros estándares. Si ya existe información en nuestro base de datos y vamos a agregar nueva información, hay que hacer qe coincidan, pero si no, puede ser pertinente modificarla hacia estándares comunes de nuestra región.\n",
    "\n",
    "Por ejemplo, los bienes raíces en algunos paises usan para medir el área en pies cuadrados, y probablemente para nosotros esa medida de referencia no nos brinde información clara."
   ]
  },
  {
   "cell_type": "code",
   "execution_count": 36,
   "id": "d1db53fd",
   "metadata": {},
   "outputs": [
    {
     "data": {
      "text/html": [
       "<div>\n",
       "<style scoped>\n",
       "    .dataframe tbody tr th:only-of-type {\n",
       "        vertical-align: middle;\n",
       "    }\n",
       "\n",
       "    .dataframe tbody tr th {\n",
       "        vertical-align: top;\n",
       "    }\n",
       "\n",
       "    .dataframe thead th {\n",
       "        text-align: right;\n",
       "    }\n",
       "</style>\n",
       "<table border=\"1\" class=\"dataframe\">\n",
       "  <thead>\n",
       "    <tr style=\"text-align: right;\">\n",
       "      <th></th>\n",
       "      <th>city-mpg</th>\n",
       "      <th>highway-mpg</th>\n",
       "    </tr>\n",
       "  </thead>\n",
       "  <tbody>\n",
       "    <tr>\n",
       "      <th>0</th>\n",
       "      <td>21</td>\n",
       "      <td>27</td>\n",
       "    </tr>\n",
       "    <tr>\n",
       "      <th>1</th>\n",
       "      <td>21</td>\n",
       "      <td>27</td>\n",
       "    </tr>\n",
       "    <tr>\n",
       "      <th>2</th>\n",
       "      <td>19</td>\n",
       "      <td>26</td>\n",
       "    </tr>\n",
       "    <tr>\n",
       "      <th>3</th>\n",
       "      <td>24</td>\n",
       "      <td>30</td>\n",
       "    </tr>\n",
       "    <tr>\n",
       "      <th>4</th>\n",
       "      <td>18</td>\n",
       "      <td>22</td>\n",
       "    </tr>\n",
       "  </tbody>\n",
       "</table>\n",
       "</div>"
      ],
      "text/plain": [
       "   city-mpg  highway-mpg\n",
       "0        21           27\n",
       "1        21           27\n",
       "2        19           26\n",
       "3        24           30\n",
       "4        18           22"
      ]
     },
     "execution_count": 36,
     "metadata": {},
     "output_type": "execute_result"
    }
   ],
   "source": [
    "df[[\"city-mpg\", \"highway-mpg\"]].head()"
   ]
  },
  {
   "cell_type": "markdown",
   "id": "ba261252",
   "metadata": {},
   "source": [
    "Las columnas \"city-mpg\" y \"highway-mpg\" representan la cantidad de millas por galón americano que recorre el vehículo, tanto en la ciudad como en la autopista respectivamente. Cambiaremos esas columnas por kilometros por litro de combustible.\n",
    "\n",
    "Una milla es 1,60934 kilómetros y 1 galón americano es 3,78541 litros. 3,78541 entre 1,60934 es igual a 2,352, es decir, la relación mpg es 2,352 veces mayor a la relación kilómetros por litro. También podemos dividir 1,60934 entre 3,78541 y obtener 0,4251, es decir, el valor de la relación kpl es aproximadamente el 42,51% del valor de la relación mpg."
   ]
  },
  {
   "cell_type": "code",
   "execution_count": 37,
   "id": "ab60d3c4",
   "metadata": {},
   "outputs": [],
   "source": [
    "df[\"city-mpg\"] = df[\"city-mpg\"] * 0.4251"
   ]
  },
  {
   "cell_type": "code",
   "execution_count": 38,
   "id": "a2f9f834",
   "metadata": {},
   "outputs": [
    {
     "data": {
      "text/plain": [
       "0       8.9271\n",
       "1       8.9271\n",
       "2       8.0769\n",
       "3      10.2024\n",
       "4       7.6518\n",
       "        ...   \n",
       "200     9.7773\n",
       "201     8.0769\n",
       "202     7.6518\n",
       "203    11.0526\n",
       "204     8.0769\n",
       "Name: city-mpg, Length: 205, dtype: float64"
      ]
     },
     "execution_count": 38,
     "metadata": {},
     "output_type": "execute_result"
    }
   ],
   "source": [
    "df[\"city-mpg\"]"
   ]
  },
  {
   "cell_type": "code",
   "execution_count": 39,
   "id": "2d9fddc6",
   "metadata": {},
   "outputs": [],
   "source": [
    "df[\"highway-mpg\"] = df[\"highway-mpg\"] * 0.4251"
   ]
  },
  {
   "cell_type": "code",
   "execution_count": 40,
   "id": "5a64ea3f",
   "metadata": {},
   "outputs": [
    {
     "data": {
      "text/plain": [
       "0      11.4777\n",
       "1      11.4777\n",
       "2      11.0526\n",
       "3      12.7530\n",
       "4       9.3522\n",
       "        ...   \n",
       "200    11.9028\n",
       "201    10.6275\n",
       "202     9.7773\n",
       "203    11.4777\n",
       "204    10.6275\n",
       "Name: highway-mpg, Length: 205, dtype: float64"
      ]
     },
     "execution_count": 40,
     "metadata": {},
     "output_type": "execute_result"
    }
   ],
   "source": [
    "df[\"highway-mpg\"]"
   ]
  },
  {
   "cell_type": "code",
   "execution_count": 41,
   "id": "01b2f73d",
   "metadata": {},
   "outputs": [],
   "source": [
    "df.rename(columns={\"city-mpg\": \"city-kpl\", \"highway-mpg\":'highway-kpl'}, inplace=True)"
   ]
  },
  {
   "cell_type": "code",
   "execution_count": 42,
   "id": "838a1008",
   "metadata": {},
   "outputs": [
    {
     "name": "stdout",
     "output_type": "stream",
     "text": [
      "<class 'pandas.core.frame.DataFrame'>\n",
      "RangeIndex: 205 entries, 0 to 204\n",
      "Data columns (total 26 columns):\n",
      " #   Column             Non-Null Count  Dtype  \n",
      "---  ------             --------------  -----  \n",
      " 0   symboling          205 non-null    int64  \n",
      " 1   normalized-losses  164 non-null    Int64  \n",
      " 2   make               205 non-null    object \n",
      " 3   fuel-type          205 non-null    object \n",
      " 4   aspiration         205 non-null    object \n",
      " 5   num-of-doors       205 non-null    object \n",
      " 6   body-style         205 non-null    object \n",
      " 7   drive-wheels       205 non-null    object \n",
      " 8   engine-location    205 non-null    object \n",
      " 9   wheel-base         205 non-null    float64\n",
      " 10  length             205 non-null    float64\n",
      " 11  width              205 non-null    float64\n",
      " 12  height             205 non-null    float64\n",
      " 13  curb-weight        205 non-null    int64  \n",
      " 14  engine-type        205 non-null    object \n",
      " 15  num-of-cylinders   205 non-null    int64  \n",
      " 16  engine-size        205 non-null    int64  \n",
      " 17  fuel-system        205 non-null    object \n",
      " 18  bore               205 non-null    Float64\n",
      " 19  stroke             205 non-null    Float64\n",
      " 20  compression-ratio  205 non-null    float64\n",
      " 21  horsepower         205 non-null    Int64  \n",
      " 22  peak-rpm           205 non-null    Int64  \n",
      " 23  city-kpl           205 non-null    float64\n",
      " 24  highway-kpl        205 non-null    float64\n",
      " 25  price              205 non-null    Int64  \n",
      "dtypes: Float64(2), Int64(4), float64(7), int64(4), object(9)\n",
      "memory usage: 43.0+ KB\n"
     ]
    }
   ],
   "source": [
    "df.info()"
   ]
  },
  {
   "cell_type": "code",
   "execution_count": 43,
   "id": "86d17b4f",
   "metadata": {},
   "outputs": [
    {
     "data": {
      "text/html": [
       "<div>\n",
       "<style scoped>\n",
       "    .dataframe tbody tr th:only-of-type {\n",
       "        vertical-align: middle;\n",
       "    }\n",
       "\n",
       "    .dataframe tbody tr th {\n",
       "        vertical-align: top;\n",
       "    }\n",
       "\n",
       "    .dataframe thead th {\n",
       "        text-align: right;\n",
       "    }\n",
       "</style>\n",
       "<table border=\"1\" class=\"dataframe\">\n",
       "  <thead>\n",
       "    <tr style=\"text-align: right;\">\n",
       "      <th></th>\n",
       "      <th>wheel-base</th>\n",
       "      <th>length</th>\n",
       "      <th>width</th>\n",
       "      <th>height</th>\n",
       "      <th>bore</th>\n",
       "      <th>stroke</th>\n",
       "    </tr>\n",
       "  </thead>\n",
       "  <tbody>\n",
       "    <tr>\n",
       "      <th>0</th>\n",
       "      <td>88.6</td>\n",
       "      <td>168.8</td>\n",
       "      <td>64.1</td>\n",
       "      <td>48.8</td>\n",
       "      <td>3.47</td>\n",
       "      <td>2.68</td>\n",
       "    </tr>\n",
       "    <tr>\n",
       "      <th>1</th>\n",
       "      <td>88.6</td>\n",
       "      <td>168.8</td>\n",
       "      <td>64.1</td>\n",
       "      <td>48.8</td>\n",
       "      <td>3.47</td>\n",
       "      <td>2.68</td>\n",
       "    </tr>\n",
       "    <tr>\n",
       "      <th>2</th>\n",
       "      <td>94.5</td>\n",
       "      <td>171.2</td>\n",
       "      <td>65.5</td>\n",
       "      <td>52.4</td>\n",
       "      <td>2.68</td>\n",
       "      <td>3.47</td>\n",
       "    </tr>\n",
       "    <tr>\n",
       "      <th>3</th>\n",
       "      <td>99.8</td>\n",
       "      <td>176.6</td>\n",
       "      <td>66.2</td>\n",
       "      <td>54.3</td>\n",
       "      <td>3.19</td>\n",
       "      <td>3.4</td>\n",
       "    </tr>\n",
       "    <tr>\n",
       "      <th>4</th>\n",
       "      <td>99.4</td>\n",
       "      <td>176.6</td>\n",
       "      <td>66.4</td>\n",
       "      <td>54.3</td>\n",
       "      <td>3.19</td>\n",
       "      <td>3.4</td>\n",
       "    </tr>\n",
       "    <tr>\n",
       "      <th>...</th>\n",
       "      <td>...</td>\n",
       "      <td>...</td>\n",
       "      <td>...</td>\n",
       "      <td>...</td>\n",
       "      <td>...</td>\n",
       "      <td>...</td>\n",
       "    </tr>\n",
       "    <tr>\n",
       "      <th>200</th>\n",
       "      <td>109.1</td>\n",
       "      <td>188.8</td>\n",
       "      <td>68.9</td>\n",
       "      <td>55.5</td>\n",
       "      <td>3.78</td>\n",
       "      <td>3.15</td>\n",
       "    </tr>\n",
       "    <tr>\n",
       "      <th>201</th>\n",
       "      <td>109.1</td>\n",
       "      <td>188.8</td>\n",
       "      <td>68.8</td>\n",
       "      <td>55.5</td>\n",
       "      <td>3.78</td>\n",
       "      <td>3.15</td>\n",
       "    </tr>\n",
       "    <tr>\n",
       "      <th>202</th>\n",
       "      <td>109.1</td>\n",
       "      <td>188.8</td>\n",
       "      <td>68.9</td>\n",
       "      <td>55.5</td>\n",
       "      <td>3.58</td>\n",
       "      <td>2.87</td>\n",
       "    </tr>\n",
       "    <tr>\n",
       "      <th>203</th>\n",
       "      <td>109.1</td>\n",
       "      <td>188.8</td>\n",
       "      <td>68.9</td>\n",
       "      <td>55.5</td>\n",
       "      <td>3.01</td>\n",
       "      <td>3.4</td>\n",
       "    </tr>\n",
       "    <tr>\n",
       "      <th>204</th>\n",
       "      <td>109.1</td>\n",
       "      <td>188.8</td>\n",
       "      <td>68.9</td>\n",
       "      <td>55.5</td>\n",
       "      <td>3.78</td>\n",
       "      <td>3.15</td>\n",
       "    </tr>\n",
       "  </tbody>\n",
       "</table>\n",
       "<p>205 rows × 6 columns</p>\n",
       "</div>"
      ],
      "text/plain": [
       "     wheel-base  length  width  height  bore  stroke\n",
       "0          88.6   168.8   64.1    48.8  3.47    2.68\n",
       "1          88.6   168.8   64.1    48.8  3.47    2.68\n",
       "2          94.5   171.2   65.5    52.4  2.68    3.47\n",
       "3          99.8   176.6   66.2    54.3  3.19     3.4\n",
       "4          99.4   176.6   66.4    54.3  3.19     3.4\n",
       "..          ...     ...    ...     ...   ...     ...\n",
       "200       109.1   188.8   68.9    55.5  3.78    3.15\n",
       "201       109.1   188.8   68.8    55.5  3.78    3.15\n",
       "202       109.1   188.8   68.9    55.5  3.58    2.87\n",
       "203       109.1   188.8   68.9    55.5  3.01     3.4\n",
       "204       109.1   188.8   68.9    55.5  3.78    3.15\n",
       "\n",
       "[205 rows x 6 columns]"
      ]
     },
     "execution_count": 43,
     "metadata": {},
     "output_type": "execute_result"
    }
   ],
   "source": [
    "df[[\"wheel-base\", \"length\", \"width\", \"height\", \"bore\", \"stroke\"]]"
   ]
  },
  {
   "cell_type": "markdown",
   "id": "0e99c809",
   "metadata": {},
   "source": [
    "Las columnas \"wheel-base\", \"length\", \"width\", \"height\", \"bore\" y \"stroke\" están todas en pulgadas, las convertiremos a centímetros multiplicando su valor por 2,54."
   ]
  },
  {
   "cell_type": "code",
   "execution_count": 44,
   "id": "e4135967",
   "metadata": {},
   "outputs": [
    {
     "data": {
      "text/html": [
       "<div>\n",
       "<style scoped>\n",
       "    .dataframe tbody tr th:only-of-type {\n",
       "        vertical-align: middle;\n",
       "    }\n",
       "\n",
       "    .dataframe tbody tr th {\n",
       "        vertical-align: top;\n",
       "    }\n",
       "\n",
       "    .dataframe thead th {\n",
       "        text-align: right;\n",
       "    }\n",
       "</style>\n",
       "<table border=\"1\" class=\"dataframe\">\n",
       "  <thead>\n",
       "    <tr style=\"text-align: right;\">\n",
       "      <th></th>\n",
       "      <th>wheel-base</th>\n",
       "      <th>length</th>\n",
       "      <th>width</th>\n",
       "      <th>height</th>\n",
       "      <th>bore</th>\n",
       "      <th>stroke</th>\n",
       "    </tr>\n",
       "  </thead>\n",
       "  <tbody>\n",
       "    <tr>\n",
       "      <th>0</th>\n",
       "      <td>225.04</td>\n",
       "      <td>428.75</td>\n",
       "      <td>162.81</td>\n",
       "      <td>123.95</td>\n",
       "      <td>8.81</td>\n",
       "      <td>6.81</td>\n",
       "    </tr>\n",
       "    <tr>\n",
       "      <th>1</th>\n",
       "      <td>225.04</td>\n",
       "      <td>428.75</td>\n",
       "      <td>162.81</td>\n",
       "      <td>123.95</td>\n",
       "      <td>8.81</td>\n",
       "      <td>6.81</td>\n",
       "    </tr>\n",
       "    <tr>\n",
       "      <th>2</th>\n",
       "      <td>240.03</td>\n",
       "      <td>434.85</td>\n",
       "      <td>166.37</td>\n",
       "      <td>133.10</td>\n",
       "      <td>6.81</td>\n",
       "      <td>8.81</td>\n",
       "    </tr>\n",
       "    <tr>\n",
       "      <th>3</th>\n",
       "      <td>253.49</td>\n",
       "      <td>448.56</td>\n",
       "      <td>168.15</td>\n",
       "      <td>137.92</td>\n",
       "      <td>8.1</td>\n",
       "      <td>8.64</td>\n",
       "    </tr>\n",
       "    <tr>\n",
       "      <th>4</th>\n",
       "      <td>252.48</td>\n",
       "      <td>448.56</td>\n",
       "      <td>168.66</td>\n",
       "      <td>137.92</td>\n",
       "      <td>8.1</td>\n",
       "      <td>8.64</td>\n",
       "    </tr>\n",
       "    <tr>\n",
       "      <th>...</th>\n",
       "      <td>...</td>\n",
       "      <td>...</td>\n",
       "      <td>...</td>\n",
       "      <td>...</td>\n",
       "      <td>...</td>\n",
       "      <td>...</td>\n",
       "    </tr>\n",
       "    <tr>\n",
       "      <th>200</th>\n",
       "      <td>277.11</td>\n",
       "      <td>479.55</td>\n",
       "      <td>175.01</td>\n",
       "      <td>140.97</td>\n",
       "      <td>9.6</td>\n",
       "      <td>8.0</td>\n",
       "    </tr>\n",
       "    <tr>\n",
       "      <th>201</th>\n",
       "      <td>277.11</td>\n",
       "      <td>479.55</td>\n",
       "      <td>174.75</td>\n",
       "      <td>140.97</td>\n",
       "      <td>9.6</td>\n",
       "      <td>8.0</td>\n",
       "    </tr>\n",
       "    <tr>\n",
       "      <th>202</th>\n",
       "      <td>277.11</td>\n",
       "      <td>479.55</td>\n",
       "      <td>175.01</td>\n",
       "      <td>140.97</td>\n",
       "      <td>9.09</td>\n",
       "      <td>7.29</td>\n",
       "    </tr>\n",
       "    <tr>\n",
       "      <th>203</th>\n",
       "      <td>277.11</td>\n",
       "      <td>479.55</td>\n",
       "      <td>175.01</td>\n",
       "      <td>140.97</td>\n",
       "      <td>7.65</td>\n",
       "      <td>8.64</td>\n",
       "    </tr>\n",
       "    <tr>\n",
       "      <th>204</th>\n",
       "      <td>277.11</td>\n",
       "      <td>479.55</td>\n",
       "      <td>175.01</td>\n",
       "      <td>140.97</td>\n",
       "      <td>9.6</td>\n",
       "      <td>8.0</td>\n",
       "    </tr>\n",
       "  </tbody>\n",
       "</table>\n",
       "<p>205 rows × 6 columns</p>\n",
       "</div>"
      ],
      "text/plain": [
       "     wheel-base  length   width  height  bore  stroke\n",
       "0        225.04  428.75  162.81  123.95  8.81    6.81\n",
       "1        225.04  428.75  162.81  123.95  8.81    6.81\n",
       "2        240.03  434.85  166.37  133.10  6.81    8.81\n",
       "3        253.49  448.56  168.15  137.92   8.1    8.64\n",
       "4        252.48  448.56  168.66  137.92   8.1    8.64\n",
       "..          ...     ...     ...     ...   ...     ...\n",
       "200      277.11  479.55  175.01  140.97   9.6     8.0\n",
       "201      277.11  479.55  174.75  140.97   9.6     8.0\n",
       "202      277.11  479.55  175.01  140.97  9.09    7.29\n",
       "203      277.11  479.55  175.01  140.97  7.65    8.64\n",
       "204      277.11  479.55  175.01  140.97   9.6     8.0\n",
       "\n",
       "[205 rows x 6 columns]"
      ]
     },
     "execution_count": 44,
     "metadata": {},
     "output_type": "execute_result"
    }
   ],
   "source": [
    "df[\"wheel-base\"] = df[\"wheel-base\"] * 2.54\n",
    "df[\"length\"] = df[\"length\"] * 2.54\n",
    "df[\"width\"] = df[\"width\"] * 2.54\n",
    "df[\"height\"] = df[\"height\"] * 2.54\n",
    "df[\"bore\"] = df[\"bore\"] * 2.54\n",
    "df[\"stroke\"] = df[\"stroke\"] * 2.54\n",
    "\n",
    "df[[\"wheel-base\", \"length\", \"width\", \"height\", \"bore\", \"stroke\"]] = df[[\"wheel-base\", \"length\", \"width\", \"height\", \"bore\", \"stroke\"]].round(decimals=2)\n",
    "df[[\"wheel-base\", \"length\", \"width\", \"height\", \"bore\", \"stroke\"]]"
   ]
  },
  {
   "cell_type": "markdown",
   "id": "336168a0",
   "metadata": {},
   "source": [
    "La columna \"curb-weight\" muestra el peso del vehículo en libras. Para convertirlo a kilogramo debemos dividir el peso en libras entre 0,4535."
   ]
  },
  {
   "cell_type": "code",
   "execution_count": 45,
   "id": "000c375f",
   "metadata": {},
   "outputs": [
    {
     "data": {
      "text/plain": [
       "0      2548\n",
       "1      2548\n",
       "2      2823\n",
       "3      2337\n",
       "4      2824\n",
       "       ... \n",
       "200    2952\n",
       "201    3049\n",
       "202    3012\n",
       "203    3217\n",
       "204    3062\n",
       "Name: curb-weight, Length: 205, dtype: int64"
      ]
     },
     "execution_count": 45,
     "metadata": {},
     "output_type": "execute_result"
    }
   ],
   "source": [
    "df['curb-weight']"
   ]
  },
  {
   "cell_type": "code",
   "execution_count": 46,
   "id": "ba8950f1",
   "metadata": {},
   "outputs": [
    {
     "data": {
      "text/plain": [
       "0      1155.52\n",
       "1      1155.52\n",
       "2      1280.23\n",
       "3      1059.83\n",
       "4      1280.68\n",
       "        ...   \n",
       "200    1338.73\n",
       "201    1382.72\n",
       "202    1365.94\n",
       "203    1458.91\n",
       "204    1388.62\n",
       "Name: curb-weight, Length: 205, dtype: float64"
      ]
     },
     "execution_count": 46,
     "metadata": {},
     "output_type": "execute_result"
    }
   ],
   "source": [
    "df['curb-weight'] = (df['curb-weight'] * 0.4535).round(decimals=2)\n",
    "\n",
    "df['curb-weight']"
   ]
  },
  {
   "cell_type": "markdown",
   "id": "c3397378",
   "metadata": {},
   "source": [
    "## Normalizar la data."
   ]
  },
  {
   "cell_type": "markdown",
   "id": "caceaf9b",
   "metadata": {},
   "source": [
    "Podemos normalizar data convirtiendola en scala del valor máximo de la columna y así el valor de la columna irá de 0 a 1, siendo 1 que es igual al valor máximo."
   ]
  },
  {
   "cell_type": "code",
   "execution_count": 47,
   "id": "0e059565",
   "metadata": {},
   "outputs": [],
   "source": [
    "df['height'] = df['height'] / df['height'].max()\n",
    "df['length'] = df['length'] / df['length'].max()\n",
    "df['width'] = df['width'] / df['width'].max()"
   ]
  },
  {
   "cell_type": "code",
   "execution_count": 48,
   "id": "de909b6b",
   "metadata": {},
   "outputs": [
    {
     "data": {
      "text/html": [
       "<div>\n",
       "<style scoped>\n",
       "    .dataframe tbody tr th:only-of-type {\n",
       "        vertical-align: middle;\n",
       "    }\n",
       "\n",
       "    .dataframe tbody tr th {\n",
       "        vertical-align: top;\n",
       "    }\n",
       "\n",
       "    .dataframe thead th {\n",
       "        text-align: right;\n",
       "    }\n",
       "</style>\n",
       "<table border=\"1\" class=\"dataframe\">\n",
       "  <thead>\n",
       "    <tr style=\"text-align: right;\">\n",
       "      <th></th>\n",
       "      <th>length</th>\n",
       "      <th>width</th>\n",
       "      <th>height</th>\n",
       "    </tr>\n",
       "  </thead>\n",
       "  <tbody>\n",
       "    <tr>\n",
       "      <th>0</th>\n",
       "      <td>0.811151</td>\n",
       "      <td>0.886572</td>\n",
       "      <td>0.816051</td>\n",
       "    </tr>\n",
       "    <tr>\n",
       "      <th>1</th>\n",
       "      <td>0.811151</td>\n",
       "      <td>0.886572</td>\n",
       "      <td>0.816051</td>\n",
       "    </tr>\n",
       "    <tr>\n",
       "      <th>2</th>\n",
       "      <td>0.822691</td>\n",
       "      <td>0.905957</td>\n",
       "      <td>0.876292</td>\n",
       "    </tr>\n",
       "    <tr>\n",
       "      <th>3</th>\n",
       "      <td>0.848629</td>\n",
       "      <td>0.915650</td>\n",
       "      <td>0.908026</td>\n",
       "    </tr>\n",
       "    <tr>\n",
       "      <th>4</th>\n",
       "      <td>0.848629</td>\n",
       "      <td>0.918427</td>\n",
       "      <td>0.908026</td>\n",
       "    </tr>\n",
       "    <tr>\n",
       "      <th>...</th>\n",
       "      <td>...</td>\n",
       "      <td>...</td>\n",
       "      <td>...</td>\n",
       "    </tr>\n",
       "    <tr>\n",
       "      <th>200</th>\n",
       "      <td>0.907259</td>\n",
       "      <td>0.953006</td>\n",
       "      <td>0.928106</td>\n",
       "    </tr>\n",
       "    <tr>\n",
       "      <th>201</th>\n",
       "      <td>0.907259</td>\n",
       "      <td>0.951590</td>\n",
       "      <td>0.928106</td>\n",
       "    </tr>\n",
       "    <tr>\n",
       "      <th>202</th>\n",
       "      <td>0.907259</td>\n",
       "      <td>0.953006</td>\n",
       "      <td>0.928106</td>\n",
       "    </tr>\n",
       "    <tr>\n",
       "      <th>203</th>\n",
       "      <td>0.907259</td>\n",
       "      <td>0.953006</td>\n",
       "      <td>0.928106</td>\n",
       "    </tr>\n",
       "    <tr>\n",
       "      <th>204</th>\n",
       "      <td>0.907259</td>\n",
       "      <td>0.953006</td>\n",
       "      <td>0.928106</td>\n",
       "    </tr>\n",
       "  </tbody>\n",
       "</table>\n",
       "<p>205 rows × 3 columns</p>\n",
       "</div>"
      ],
      "text/plain": [
       "       length     width    height\n",
       "0    0.811151  0.886572  0.816051\n",
       "1    0.811151  0.886572  0.816051\n",
       "2    0.822691  0.905957  0.876292\n",
       "3    0.848629  0.915650  0.908026\n",
       "4    0.848629  0.918427  0.908026\n",
       "..        ...       ...       ...\n",
       "200  0.907259  0.953006  0.928106\n",
       "201  0.907259  0.951590  0.928106\n",
       "202  0.907259  0.953006  0.928106\n",
       "203  0.907259  0.953006  0.928106\n",
       "204  0.907259  0.953006  0.928106\n",
       "\n",
       "[205 rows x 3 columns]"
      ]
     },
     "execution_count": 48,
     "metadata": {},
     "output_type": "execute_result"
    }
   ],
   "source": [
    "df[[\"length\", \"width\", \"height\"]]"
   ]
  },
  {
   "cell_type": "markdown",
   "id": "3e5cf610",
   "metadata": {},
   "source": [
    "Otra función al normalizar data eliminando redundancia es cuando tenemos columnas que dicen lo mismo de maneras distintas. Lamentablemente en esta data no hay casos así, así que crearé unos para explicarlo y corregirlo."
   ]
  },
  {
   "cell_type": "code",
   "execution_count": 49,
   "id": "663a4195",
   "metadata": {},
   "outputs": [
    {
     "data": {
      "text/html": [
       "<div>\n",
       "<style scoped>\n",
       "    .dataframe tbody tr th:only-of-type {\n",
       "        vertical-align: middle;\n",
       "    }\n",
       "\n",
       "    .dataframe tbody tr th {\n",
       "        vertical-align: top;\n",
       "    }\n",
       "\n",
       "    .dataframe thead th {\n",
       "        text-align: right;\n",
       "    }\n",
       "</style>\n",
       "<table border=\"1\" class=\"dataframe\">\n",
       "  <thead>\n",
       "    <tr style=\"text-align: right;\">\n",
       "      <th></th>\n",
       "      <th>symboling</th>\n",
       "      <th>normalized-losses</th>\n",
       "      <th>make</th>\n",
       "      <th>fuel-type</th>\n",
       "      <th>aspiration</th>\n",
       "      <th>num-of-doors</th>\n",
       "      <th>body-style</th>\n",
       "      <th>drive-wheels</th>\n",
       "      <th>engine-location</th>\n",
       "      <th>wheel-base</th>\n",
       "      <th>...</th>\n",
       "      <th>engine-size</th>\n",
       "      <th>fuel-system</th>\n",
       "      <th>bore</th>\n",
       "      <th>stroke</th>\n",
       "      <th>compression-ratio</th>\n",
       "      <th>horsepower</th>\n",
       "      <th>peak-rpm</th>\n",
       "      <th>city-kpl</th>\n",
       "      <th>highway-kpl</th>\n",
       "      <th>price</th>\n",
       "    </tr>\n",
       "  </thead>\n",
       "  <tbody>\n",
       "    <tr>\n",
       "      <th>20</th>\n",
       "      <td>0</td>\n",
       "      <td>81</td>\n",
       "      <td>chevrolet</td>\n",
       "      <td>gas</td>\n",
       "      <td>std</td>\n",
       "      <td>four</td>\n",
       "      <td>sedan</td>\n",
       "      <td>fwd</td>\n",
       "      <td>front</td>\n",
       "      <td>240.03</td>\n",
       "      <td>...</td>\n",
       "      <td>90</td>\n",
       "      <td>2bbl</td>\n",
       "      <td>7.7</td>\n",
       "      <td>7.9</td>\n",
       "      <td>9.60</td>\n",
       "      <td>70</td>\n",
       "      <td>5400</td>\n",
       "      <td>16.1538</td>\n",
       "      <td>18.2793</td>\n",
       "      <td>6575</td>\n",
       "    </tr>\n",
       "    <tr>\n",
       "      <th>21</th>\n",
       "      <td>1</td>\n",
       "      <td>118</td>\n",
       "      <td>dodge</td>\n",
       "      <td>gas</td>\n",
       "      <td>std</td>\n",
       "      <td>two</td>\n",
       "      <td>hatchback</td>\n",
       "      <td>fwd</td>\n",
       "      <td>front</td>\n",
       "      <td>238.00</td>\n",
       "      <td>...</td>\n",
       "      <td>90</td>\n",
       "      <td>2bbl</td>\n",
       "      <td>7.54</td>\n",
       "      <td>8.2</td>\n",
       "      <td>9.41</td>\n",
       "      <td>68</td>\n",
       "      <td>5500</td>\n",
       "      <td>15.7287</td>\n",
       "      <td>17.4291</td>\n",
       "      <td>5572</td>\n",
       "    </tr>\n",
       "    <tr>\n",
       "      <th>22</th>\n",
       "      <td>1</td>\n",
       "      <td>118</td>\n",
       "      <td>dodge</td>\n",
       "      <td>gas</td>\n",
       "      <td>std</td>\n",
       "      <td>two</td>\n",
       "      <td>hatchback</td>\n",
       "      <td>fwd</td>\n",
       "      <td>front</td>\n",
       "      <td>238.00</td>\n",
       "      <td>...</td>\n",
       "      <td>90</td>\n",
       "      <td>2bbl</td>\n",
       "      <td>7.54</td>\n",
       "      <td>8.2</td>\n",
       "      <td>9.40</td>\n",
       "      <td>68</td>\n",
       "      <td>5500</td>\n",
       "      <td>13.1781</td>\n",
       "      <td>16.1538</td>\n",
       "      <td>6377</td>\n",
       "    </tr>\n",
       "    <tr>\n",
       "      <th>23</th>\n",
       "      <td>1</td>\n",
       "      <td>118</td>\n",
       "      <td>dodge</td>\n",
       "      <td>gas</td>\n",
       "      <td>turbo</td>\n",
       "      <td>two</td>\n",
       "      <td>hatchback</td>\n",
       "      <td>fwd</td>\n",
       "      <td>front</td>\n",
       "      <td>238.00</td>\n",
       "      <td>...</td>\n",
       "      <td>98</td>\n",
       "      <td>mpfi</td>\n",
       "      <td>7.7</td>\n",
       "      <td>8.61</td>\n",
       "      <td>7.60</td>\n",
       "      <td>102</td>\n",
       "      <td>5500</td>\n",
       "      <td>10.2024</td>\n",
       "      <td>12.7530</td>\n",
       "      <td>7957</td>\n",
       "    </tr>\n",
       "    <tr>\n",
       "      <th>24</th>\n",
       "      <td>1</td>\n",
       "      <td>148</td>\n",
       "      <td>dodge</td>\n",
       "      <td>gas</td>\n",
       "      <td>std</td>\n",
       "      <td>four</td>\n",
       "      <td>hatchback</td>\n",
       "      <td>fwd</td>\n",
       "      <td>front</td>\n",
       "      <td>238.00</td>\n",
       "      <td>...</td>\n",
       "      <td>90</td>\n",
       "      <td>2bbl</td>\n",
       "      <td>7.54</td>\n",
       "      <td>8.2</td>\n",
       "      <td>9.40</td>\n",
       "      <td>68</td>\n",
       "      <td>5500</td>\n",
       "      <td>13.1781</td>\n",
       "      <td>16.1538</td>\n",
       "      <td>6229</td>\n",
       "    </tr>\n",
       "    <tr>\n",
       "      <th>25</th>\n",
       "      <td>1</td>\n",
       "      <td>148</td>\n",
       "      <td>dodge</td>\n",
       "      <td>gas</td>\n",
       "      <td>std</td>\n",
       "      <td>four</td>\n",
       "      <td>sedan</td>\n",
       "      <td>fwd</td>\n",
       "      <td>front</td>\n",
       "      <td>238.00</td>\n",
       "      <td>...</td>\n",
       "      <td>90</td>\n",
       "      <td>2bbl</td>\n",
       "      <td>7.54</td>\n",
       "      <td>8.2</td>\n",
       "      <td>9.40</td>\n",
       "      <td>68</td>\n",
       "      <td>5500</td>\n",
       "      <td>13.1781</td>\n",
       "      <td>16.1538</td>\n",
       "      <td>6692</td>\n",
       "    </tr>\n",
       "  </tbody>\n",
       "</table>\n",
       "<p>6 rows × 26 columns</p>\n",
       "</div>"
      ],
      "text/plain": [
       "    symboling  normalized-losses       make fuel-type aspiration num-of-doors  \\\n",
       "20          0                 81  chevrolet       gas        std         four   \n",
       "21          1                118      dodge       gas        std          two   \n",
       "22          1                118      dodge       gas        std          two   \n",
       "23          1                118      dodge       gas      turbo          two   \n",
       "24          1                148      dodge       gas        std         four   \n",
       "25          1                148      dodge       gas        std         four   \n",
       "\n",
       "   body-style drive-wheels engine-location  wheel-base  ...  engine-size  \\\n",
       "20      sedan          fwd           front      240.03  ...           90   \n",
       "21  hatchback          fwd           front      238.00  ...           90   \n",
       "22  hatchback          fwd           front      238.00  ...           90   \n",
       "23  hatchback          fwd           front      238.00  ...           98   \n",
       "24  hatchback          fwd           front      238.00  ...           90   \n",
       "25      sedan          fwd           front      238.00  ...           90   \n",
       "\n",
       "    fuel-system  bore  stroke compression-ratio  horsepower  peak-rpm  \\\n",
       "20         2bbl   7.7     7.9              9.60          70      5400   \n",
       "21         2bbl  7.54     8.2              9.41          68      5500   \n",
       "22         2bbl  7.54     8.2              9.40          68      5500   \n",
       "23         mpfi   7.7    8.61              7.60         102      5500   \n",
       "24         2bbl  7.54     8.2              9.40          68      5500   \n",
       "25         2bbl  7.54     8.2              9.40          68      5500   \n",
       "\n",
       "   city-kpl  highway-kpl  price  \n",
       "20  16.1538      18.2793   6575  \n",
       "21  15.7287      17.4291   5572  \n",
       "22  13.1781      16.1538   6377  \n",
       "23  10.2024      12.7530   7957  \n",
       "24  13.1781      16.1538   6229  \n",
       "25  13.1781      16.1538   6692  \n",
       "\n",
       "[6 rows x 26 columns]"
      ]
     },
     "execution_count": 49,
     "metadata": {},
     "output_type": "execute_result"
    }
   ],
   "source": [
    "df.iloc[[20, 21, 22, 23, 24, 25]]"
   ]
  },
  {
   "cell_type": "code",
   "execution_count": 50,
   "id": "acd810d0",
   "metadata": {},
   "outputs": [],
   "source": [
    "df.at[20, 'num-of-doors'] = 4\n",
    "df.at[22, 'num-of-doors'] = 2\n",
    "df.at[23, 'num-of-doors'] = 2"
   ]
  },
  {
   "cell_type": "code",
   "execution_count": 51,
   "id": "3aa70f2f",
   "metadata": {},
   "outputs": [
    {
     "data": {
      "text/html": [
       "<div>\n",
       "<style scoped>\n",
       "    .dataframe tbody tr th:only-of-type {\n",
       "        vertical-align: middle;\n",
       "    }\n",
       "\n",
       "    .dataframe tbody tr th {\n",
       "        vertical-align: top;\n",
       "    }\n",
       "\n",
       "    .dataframe thead th {\n",
       "        text-align: right;\n",
       "    }\n",
       "</style>\n",
       "<table border=\"1\" class=\"dataframe\">\n",
       "  <thead>\n",
       "    <tr style=\"text-align: right;\">\n",
       "      <th></th>\n",
       "      <th>symboling</th>\n",
       "      <th>normalized-losses</th>\n",
       "      <th>make</th>\n",
       "      <th>fuel-type</th>\n",
       "      <th>aspiration</th>\n",
       "      <th>num-of-doors</th>\n",
       "      <th>body-style</th>\n",
       "      <th>drive-wheels</th>\n",
       "      <th>engine-location</th>\n",
       "      <th>wheel-base</th>\n",
       "      <th>...</th>\n",
       "      <th>engine-size</th>\n",
       "      <th>fuel-system</th>\n",
       "      <th>bore</th>\n",
       "      <th>stroke</th>\n",
       "      <th>compression-ratio</th>\n",
       "      <th>horsepower</th>\n",
       "      <th>peak-rpm</th>\n",
       "      <th>city-kpl</th>\n",
       "      <th>highway-kpl</th>\n",
       "      <th>price</th>\n",
       "    </tr>\n",
       "  </thead>\n",
       "  <tbody>\n",
       "    <tr>\n",
       "      <th>20</th>\n",
       "      <td>0</td>\n",
       "      <td>81</td>\n",
       "      <td>chevrolet</td>\n",
       "      <td>gas</td>\n",
       "      <td>std</td>\n",
       "      <td>4</td>\n",
       "      <td>sedan</td>\n",
       "      <td>fwd</td>\n",
       "      <td>front</td>\n",
       "      <td>240.03</td>\n",
       "      <td>...</td>\n",
       "      <td>90</td>\n",
       "      <td>2bbl</td>\n",
       "      <td>7.7</td>\n",
       "      <td>7.9</td>\n",
       "      <td>9.60</td>\n",
       "      <td>70</td>\n",
       "      <td>5400</td>\n",
       "      <td>16.1538</td>\n",
       "      <td>18.2793</td>\n",
       "      <td>6575</td>\n",
       "    </tr>\n",
       "    <tr>\n",
       "      <th>21</th>\n",
       "      <td>1</td>\n",
       "      <td>118</td>\n",
       "      <td>dodge</td>\n",
       "      <td>gas</td>\n",
       "      <td>std</td>\n",
       "      <td>two</td>\n",
       "      <td>hatchback</td>\n",
       "      <td>fwd</td>\n",
       "      <td>front</td>\n",
       "      <td>238.00</td>\n",
       "      <td>...</td>\n",
       "      <td>90</td>\n",
       "      <td>2bbl</td>\n",
       "      <td>7.54</td>\n",
       "      <td>8.2</td>\n",
       "      <td>9.41</td>\n",
       "      <td>68</td>\n",
       "      <td>5500</td>\n",
       "      <td>15.7287</td>\n",
       "      <td>17.4291</td>\n",
       "      <td>5572</td>\n",
       "    </tr>\n",
       "    <tr>\n",
       "      <th>22</th>\n",
       "      <td>1</td>\n",
       "      <td>118</td>\n",
       "      <td>dodge</td>\n",
       "      <td>gas</td>\n",
       "      <td>std</td>\n",
       "      <td>2</td>\n",
       "      <td>hatchback</td>\n",
       "      <td>fwd</td>\n",
       "      <td>front</td>\n",
       "      <td>238.00</td>\n",
       "      <td>...</td>\n",
       "      <td>90</td>\n",
       "      <td>2bbl</td>\n",
       "      <td>7.54</td>\n",
       "      <td>8.2</td>\n",
       "      <td>9.40</td>\n",
       "      <td>68</td>\n",
       "      <td>5500</td>\n",
       "      <td>13.1781</td>\n",
       "      <td>16.1538</td>\n",
       "      <td>6377</td>\n",
       "    </tr>\n",
       "    <tr>\n",
       "      <th>23</th>\n",
       "      <td>1</td>\n",
       "      <td>118</td>\n",
       "      <td>dodge</td>\n",
       "      <td>gas</td>\n",
       "      <td>turbo</td>\n",
       "      <td>2</td>\n",
       "      <td>hatchback</td>\n",
       "      <td>fwd</td>\n",
       "      <td>front</td>\n",
       "      <td>238.00</td>\n",
       "      <td>...</td>\n",
       "      <td>98</td>\n",
       "      <td>mpfi</td>\n",
       "      <td>7.7</td>\n",
       "      <td>8.61</td>\n",
       "      <td>7.60</td>\n",
       "      <td>102</td>\n",
       "      <td>5500</td>\n",
       "      <td>10.2024</td>\n",
       "      <td>12.7530</td>\n",
       "      <td>7957</td>\n",
       "    </tr>\n",
       "    <tr>\n",
       "      <th>24</th>\n",
       "      <td>1</td>\n",
       "      <td>148</td>\n",
       "      <td>dodge</td>\n",
       "      <td>gas</td>\n",
       "      <td>std</td>\n",
       "      <td>four</td>\n",
       "      <td>hatchback</td>\n",
       "      <td>fwd</td>\n",
       "      <td>front</td>\n",
       "      <td>238.00</td>\n",
       "      <td>...</td>\n",
       "      <td>90</td>\n",
       "      <td>2bbl</td>\n",
       "      <td>7.54</td>\n",
       "      <td>8.2</td>\n",
       "      <td>9.40</td>\n",
       "      <td>68</td>\n",
       "      <td>5500</td>\n",
       "      <td>13.1781</td>\n",
       "      <td>16.1538</td>\n",
       "      <td>6229</td>\n",
       "    </tr>\n",
       "    <tr>\n",
       "      <th>25</th>\n",
       "      <td>1</td>\n",
       "      <td>148</td>\n",
       "      <td>dodge</td>\n",
       "      <td>gas</td>\n",
       "      <td>std</td>\n",
       "      <td>four</td>\n",
       "      <td>sedan</td>\n",
       "      <td>fwd</td>\n",
       "      <td>front</td>\n",
       "      <td>238.00</td>\n",
       "      <td>...</td>\n",
       "      <td>90</td>\n",
       "      <td>2bbl</td>\n",
       "      <td>7.54</td>\n",
       "      <td>8.2</td>\n",
       "      <td>9.40</td>\n",
       "      <td>68</td>\n",
       "      <td>5500</td>\n",
       "      <td>13.1781</td>\n",
       "      <td>16.1538</td>\n",
       "      <td>6692</td>\n",
       "    </tr>\n",
       "  </tbody>\n",
       "</table>\n",
       "<p>6 rows × 26 columns</p>\n",
       "</div>"
      ],
      "text/plain": [
       "    symboling  normalized-losses       make fuel-type aspiration num-of-doors  \\\n",
       "20          0                 81  chevrolet       gas        std            4   \n",
       "21          1                118      dodge       gas        std          two   \n",
       "22          1                118      dodge       gas        std            2   \n",
       "23          1                118      dodge       gas      turbo            2   \n",
       "24          1                148      dodge       gas        std         four   \n",
       "25          1                148      dodge       gas        std         four   \n",
       "\n",
       "   body-style drive-wheels engine-location  wheel-base  ...  engine-size  \\\n",
       "20      sedan          fwd           front      240.03  ...           90   \n",
       "21  hatchback          fwd           front      238.00  ...           90   \n",
       "22  hatchback          fwd           front      238.00  ...           90   \n",
       "23  hatchback          fwd           front      238.00  ...           98   \n",
       "24  hatchback          fwd           front      238.00  ...           90   \n",
       "25      sedan          fwd           front      238.00  ...           90   \n",
       "\n",
       "    fuel-system  bore  stroke compression-ratio  horsepower  peak-rpm  \\\n",
       "20         2bbl   7.7     7.9              9.60          70      5400   \n",
       "21         2bbl  7.54     8.2              9.41          68      5500   \n",
       "22         2bbl  7.54     8.2              9.40          68      5500   \n",
       "23         mpfi   7.7    8.61              7.60         102      5500   \n",
       "24         2bbl  7.54     8.2              9.40          68      5500   \n",
       "25         2bbl  7.54     8.2              9.40          68      5500   \n",
       "\n",
       "   city-kpl  highway-kpl  price  \n",
       "20  16.1538      18.2793   6575  \n",
       "21  15.7287      17.4291   5572  \n",
       "22  13.1781      16.1538   6377  \n",
       "23  10.2024      12.7530   7957  \n",
       "24  13.1781      16.1538   6229  \n",
       "25  13.1781      16.1538   6692  \n",
       "\n",
       "[6 rows x 26 columns]"
      ]
     },
     "execution_count": 51,
     "metadata": {},
     "output_type": "execute_result"
    }
   ],
   "source": [
    "df.iloc[[20, 21, 22, 23, 24, 25]]"
   ]
  },
  {
   "cell_type": "code",
   "execution_count": 52,
   "id": "b3c368a1",
   "metadata": {},
   "outputs": [
    {
     "data": {
      "text/plain": [
       "array(['two', 'four', 4, 2], dtype=object)"
      ]
     },
     "execution_count": 52,
     "metadata": {},
     "output_type": "execute_result"
    }
   ],
   "source": [
    "df['num-of-doors'].unique()"
   ]
  },
  {
   "cell_type": "markdown",
   "id": "59300552",
   "metadata": {},
   "source": [
    "El los valores en número de puertas \"two\" y \"2\" nos indican lo mismo, el vehículo tiene 2 puertas, pero a nivel de dato hay redundancia, si quisieramos saber cuantos hay de cada número de puertas, \"two\" y \"2 se separaran como valores distintos."
   ]
  },
  {
   "cell_type": "code",
   "execution_count": 53,
   "id": "0721c0fc",
   "metadata": {},
   "outputs": [
    {
     "data": {
      "text/plain": [
       "four    115\n",
       "two      87\n",
       "2         2\n",
       "4         1\n",
       "Name: num-of-doors, dtype: int64"
      ]
     },
     "execution_count": 53,
     "metadata": {},
     "output_type": "execute_result"
    }
   ],
   "source": [
    "df['num-of-doors'].value_counts()"
   ]
  },
  {
   "cell_type": "markdown",
   "id": "0188d65f",
   "metadata": {},
   "source": [
    "Además si quisieramos agrupar por el número de puertas para ver otras columnas tendríamos el mismo problema, para eliminar redundancia debe eliminarse redundancia, y debe sustituirse no solo por el valor que aparezca más o menos veces, sino según sea conveniente. Por ejemplo, si esto también sucediera con el número de cilindros, aunque quizas valores como \"four\" o \"six\" fuese mas comunes que \"4\" o \"6\", como se utilizará también para un calculo, lo conveniente será sustituirlo por el valor numérico.\n",
    "\n",
    "En este caso se usara el formato que tenia inicialmente."
   ]
  },
  {
   "cell_type": "code",
   "execution_count": 54,
   "id": "273e63ee",
   "metadata": {},
   "outputs": [],
   "source": [
    "df['num-of-doors'].replace({2: \"two\", 4: \"four\"}, inplace=True)"
   ]
  },
  {
   "cell_type": "code",
   "execution_count": 55,
   "id": "2c11d8c6",
   "metadata": {},
   "outputs": [
    {
     "data": {
      "text/plain": [
       "four    116\n",
       "two      89\n",
       "Name: num-of-doors, dtype: int64"
      ]
     },
     "execution_count": 55,
     "metadata": {},
     "output_type": "execute_result"
    }
   ],
   "source": [
    "df['num-of-doors'].value_counts()"
   ]
  },
  {
   "cell_type": "markdown",
   "id": "6545fd3a",
   "metadata": {},
   "source": [
    "Por último, hay ver si existen filas en las que se repitan todas las celdas."
   ]
  },
  {
   "cell_type": "code",
   "execution_count": 56,
   "id": "ba8e894a",
   "metadata": {},
   "outputs": [
    {
     "data": {
      "text/html": [
       "<div>\n",
       "<style scoped>\n",
       "    .dataframe tbody tr th:only-of-type {\n",
       "        vertical-align: middle;\n",
       "    }\n",
       "\n",
       "    .dataframe tbody tr th {\n",
       "        vertical-align: top;\n",
       "    }\n",
       "\n",
       "    .dataframe thead th {\n",
       "        text-align: right;\n",
       "    }\n",
       "</style>\n",
       "<table border=\"1\" class=\"dataframe\">\n",
       "  <thead>\n",
       "    <tr style=\"text-align: right;\">\n",
       "      <th></th>\n",
       "      <th>symboling</th>\n",
       "      <th>normalized-losses</th>\n",
       "      <th>make</th>\n",
       "      <th>fuel-type</th>\n",
       "      <th>aspiration</th>\n",
       "      <th>num-of-doors</th>\n",
       "      <th>body-style</th>\n",
       "      <th>drive-wheels</th>\n",
       "      <th>engine-location</th>\n",
       "      <th>wheel-base</th>\n",
       "      <th>...</th>\n",
       "      <th>engine-size</th>\n",
       "      <th>fuel-system</th>\n",
       "      <th>bore</th>\n",
       "      <th>stroke</th>\n",
       "      <th>compression-ratio</th>\n",
       "      <th>horsepower</th>\n",
       "      <th>peak-rpm</th>\n",
       "      <th>city-kpl</th>\n",
       "      <th>highway-kpl</th>\n",
       "      <th>price</th>\n",
       "    </tr>\n",
       "  </thead>\n",
       "  <tbody>\n",
       "  </tbody>\n",
       "</table>\n",
       "<p>0 rows × 26 columns</p>\n",
       "</div>"
      ],
      "text/plain": [
       "Empty DataFrame\n",
       "Columns: [symboling, normalized-losses, make, fuel-type, aspiration, num-of-doors, body-style, drive-wheels, engine-location, wheel-base, length, width, height, curb-weight, engine-type, num-of-cylinders, engine-size, fuel-system, bore, stroke, compression-ratio, horsepower, peak-rpm, city-kpl, highway-kpl, price]\n",
       "Index: []\n",
       "\n",
       "[0 rows x 26 columns]"
      ]
     },
     "execution_count": 56,
     "metadata": {},
     "output_type": "execute_result"
    }
   ],
   "source": [
    "df[df.duplicated()]"
   ]
  },
  {
   "cell_type": "code",
   "execution_count": 57,
   "id": "0600fe4f",
   "metadata": {},
   "outputs": [
    {
     "name": "stdout",
     "output_type": "stream",
     "text": [
      "<class 'pandas.core.frame.DataFrame'>\n",
      "RangeIndex: 205 entries, 0 to 204\n",
      "Data columns (total 26 columns):\n",
      " #   Column             Non-Null Count  Dtype  \n",
      "---  ------             --------------  -----  \n",
      " 0   symboling          205 non-null    int64  \n",
      " 1   normalized-losses  164 non-null    Int64  \n",
      " 2   make               205 non-null    object \n",
      " 3   fuel-type          205 non-null    object \n",
      " 4   aspiration         205 non-null    object \n",
      " 5   num-of-doors       205 non-null    object \n",
      " 6   body-style         205 non-null    object \n",
      " 7   drive-wheels       205 non-null    object \n",
      " 8   engine-location    205 non-null    object \n",
      " 9   wheel-base         205 non-null    float64\n",
      " 10  length             205 non-null    float64\n",
      " 11  width              205 non-null    float64\n",
      " 12  height             205 non-null    float64\n",
      " 13  curb-weight        205 non-null    float64\n",
      " 14  engine-type        205 non-null    object \n",
      " 15  num-of-cylinders   205 non-null    int64  \n",
      " 16  engine-size        205 non-null    int64  \n",
      " 17  fuel-system        205 non-null    object \n",
      " 18  bore               205 non-null    Float64\n",
      " 19  stroke             205 non-null    Float64\n",
      " 20  compression-ratio  205 non-null    float64\n",
      " 21  horsepower         205 non-null    Int64  \n",
      " 22  peak-rpm           205 non-null    Int64  \n",
      " 23  city-kpl           205 non-null    float64\n",
      " 24  highway-kpl        205 non-null    float64\n",
      " 25  price              205 non-null    Int64  \n",
      "dtypes: Float64(2), Int64(4), float64(8), int64(3), object(9)\n",
      "memory usage: 43.0+ KB\n"
     ]
    }
   ],
   "source": [
    "df.info()"
   ]
  },
  {
   "cell_type": "markdown",
   "id": "c4882080",
   "metadata": {},
   "source": [
    "## Manual de la data."
   ]
  },
  {
   "cell_type": "markdown",
   "id": "ce68b891",
   "metadata": {},
   "source": [
    "Al terminar de manejar la data, es una buena idea crear un formato que indica que es la información que tiene cada columna.\n",
    "\n",
    "\"symboling\": índice que refleja el riesgo de un carro, siendo -3 muy seguro y 3 muy riesgoso.\n",
    "\n",
    "\"Normalized-losses\": perdida promedio por carro asegurado al año. El valor debe oscilar entre 65 y 265.\n",
    "\n",
    "-\"make\": la marca del vehículo.\n",
    "\n",
    "-\"fuel-type\": tipo de combustible.\n",
    "\n",
    "-\"num-of-doors\": número de puertas.\n",
    "\n",
    "-\"body-style\": tipo de cuerpo del vehículo.\n",
    "\n",
    "-\"drive-wheels\": tipo de tracción.\n",
    "\n",
    "-\"engine-location\": ubicación del motor.\n",
    "\n",
    "-\"wheel-base\": distancia entre ejes en centímetros.\n",
    "\n",
    "-\"length\", \"width\" y \"height\": largo, ancho y alto del vehículo e centímetros.\n",
    "\n",
    "-\"curb-weight\": peso estando vacío.\n",
    "\n",
    "-\"engine-type\": tipo de motor.\n",
    "\n",
    "-\"num-of-cylinders\": número de cilindros.\n",
    "\n",
    "-\"engine-size\": tamaño del motor.\n",
    "\n",
    "-\"bore\": diámetro del cilindro en centímetros.\n",
    "\n",
    "-\"stroke\": recorrido del cilindro en centímetros.\n",
    "\n",
    "-\"compression-ratio\": relación de compresión.\n",
    "\n",
    "-\"horsepower\": caballos de fuerza.\n",
    "\n",
    "-\"peak-rpm\": pico de revoluciones por minuto.\n",
    "\n",
    "-\"city-kpl\": promedio aproximado de kilometros recorrido por litro de combustible consumido dentro de la ciudad.\n",
    "\n",
    "-\"highway-kpl\": promedio aproximado de kilometros recorrido por litro de combustible consumido dentro en una autopista.\n",
    "\n",
    "-\"price\": precio del vehículo en dólares.\n"
   ]
  },
  {
   "cell_type": "code",
   "execution_count": 60,
   "id": "348ec3a3",
   "metadata": {},
   "outputs": [],
   "source": [
    "df.to_csv(\"vehiculos.csv\", index=False)"
   ]
  },
  {
   "cell_type": "code",
   "execution_count": null,
   "id": "f843a7c5",
   "metadata": {},
   "outputs": [],
   "source": []
  }
 ],
 "metadata": {
  "kernelspec": {
   "display_name": "Python 3 (ipykernel)",
   "language": "python",
   "name": "python3"
  },
  "language_info": {
   "codemirror_mode": {
    "name": "ipython",
    "version": 3
   },
   "file_extension": ".py",
   "mimetype": "text/x-python",
   "name": "python",
   "nbconvert_exporter": "python",
   "pygments_lexer": "ipython3",
   "version": "3.10.7"
  }
 },
 "nbformat": 4,
 "nbformat_minor": 5
}
